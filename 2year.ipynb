{
 "cells": [
  {
   "cell_type": "code",
   "execution_count": 1,
   "metadata": {
    "collapsed": true
   },
   "outputs": [],
   "source": [
    "from sklearn.datasets import load_boston\n",
    "from sklearn.linear_model import (LinearRegression, Ridge, \n",
    "                                  Lasso, RandomizedLasso)\n",
    "from sklearn.linear_model import LogisticRegression\n",
    "from sklearn.feature_selection import RFE, f_classif\n",
    "from sklearn.preprocessing import MinMaxScaler\n",
    "from sklearn.ensemble import RandomForestRegressor\n",
    "\n",
    "from sklearn.model_selection import cross_val_score, ShuffleSplit\n",
    "import numpy as np\n",
    "import pandas as pd"
   ]
  },
  {
   "cell_type": "code",
   "execution_count": 2,
   "metadata": {
    "collapsed": true
   },
   "outputs": [],
   "source": [
    "dataset = pd.read_csv(r'C:\\Users\\thinkpad\\Documents\\GitHub\\PHBS_MLF_2018\\data\\2year.arff.csv')\n",
    "target='class'#二分类的名称\n",
    "x_columns = [x for x in dataset.columns if x not in [target]]\n",
    "X = dataset[x_columns]\n",
    "y = dataset['class']\n",
    "names = X.columns\n",
    "Xarray = X.values\n",
    "yarray = y.values\n",
    "ranks = {}"
   ]
  },
  {
   "cell_type": "markdown",
   "metadata": {},
   "source": [
    "#  Univariate feature selection"
   ]
  },
  {
   "cell_type": "markdown",
   "metadata": {},
   "source": [
    "### Pearson Correlation"
   ]
  },
  {
   "cell_type": "code",
   "execution_count": 3,
   "metadata": {
    "scrolled": true
   },
   "outputs": [
    {
     "name": "stdout",
     "output_type": "stream",
     "text": [
      "[15, 8, 6, 45, 18, 3, 31, 56, 54, 10, 33, 27, 50, 30, 13, 20, 57, 25, 61, 29, 39, 28, 59, 14, 5, 23, 21, 19, 11, 63, 60, 53, 47, 55, 22, 58, 40, 9, 36, 62, 16, 34, 35, 37, 49, 38, 48, 26, 24, 44, 7, 51, 2, 1, 12, 41, 43, 32, 46, 64, 52, 17, 42, 4]\n"
     ]
    }
   ],
   "source": [
    "f, pval  = f_classif(Xarray, yarray)\n",
    "ranks = sorted(zip(f,names), reverse=True)\n",
    "Ranks = pd.DataFrame(ranks)\n",
    "Ranks['namename'] = Ranks.iloc[:,1]\n",
    "Ranklist1=[]\n",
    "for name in names:\n",
    "    rank = Ranks[(Ranks.namename==name)].index.tolist()\n",
    "    Rank = rank[-1]+1\n",
    "    Ranklist1.append(Rank)\n",
    "print(Ranklist1)"
   ]
  },
  {
   "cell_type": "markdown",
   "metadata": {},
   "source": [
    "### Random Forest Regression Based Ranking"
   ]
  },
  {
   "cell_type": "markdown",
   "metadata": {},
   "source": [
    "# Logistic model and regularization"
   ]
  },
  {
   "cell_type": "markdown",
   "metadata": {},
   "source": [
    "### L1 regularization"
   ]
  },
  {
   "cell_type": "code",
   "execution_count": 4,
   "metadata": {},
   "outputs": [
    {
     "name": "stdout",
     "output_type": "stream",
     "text": [
      "[4, 6, 17, 31, 56, 24, 60, 44, 14, 64, 16, 27, 30, 63, 58, 21, 50, 62, 61, 43, 12, 2, 18, 5, 20, 33, 54, 36, 29, 39, 26, 55, 28, 35, 3, 13, 53, 7, 10, 9, 41, 19, 47, 51, 49, 8, 45, 1, 23, 38, 15, 32, 40, 34, 59, 11, 37, 22, 46, 57, 42, 52, 25, 48]\n"
     ]
    }
   ],
   "source": [
    "lr = LogisticRegression(C=1.0, penalty=\"l1\", random_state=0)\n",
    "lr.fit(Xarray,yarray)\n",
    "lrcoef = lr.coef_[-1]\n",
    "ranks = sorted(zip(np.abs(lrcoef),names), reverse=True)\n",
    "Ranks = pd.DataFrame(ranks)\n",
    "Ranks['namename'] = Ranks.iloc[:,1]\n",
    "Ranklist2 =[]\n",
    "for name in names:\n",
    "    rank = Ranks[(Ranks.namename==name)].index.tolist()\n",
    "    Rank = rank[-1]+1\n",
    "    Ranklist2.append(Rank)\n",
    "print(Ranklist2)"
   ]
  },
  {
   "cell_type": "markdown",
   "metadata": {},
   "source": [
    "### L2 regularization"
   ]
  },
  {
   "cell_type": "code",
   "execution_count": 5,
   "metadata": {},
   "outputs": [
    {
     "name": "stdout",
     "output_type": "stream",
     "text": [
      "[57, 38, 43, 21, 42, 55, 54, 17, 29, 37, 46, 35, 39, 53, 64, 32, 16, 50, 51, 5, 28, 48, 49, 45, 41, 33, 20, 19, 22, 59, 56, 2, 14, 18, 47, 27, 6, 36, 62, 30, 34, 60, 1, 3, 24, 25, 4, 63, 61, 23, 40, 44, 13, 12, 31, 58, 52, 15, 26, 7, 8, 9, 11, 10]\n"
     ]
    }
   ],
   "source": [
    "lr = LogisticRegression(C=1.0, penalty=\"l2\", random_state=0)\n",
    "lr.fit(Xarray,yarray)\n",
    "lrcoef = lr.coef_[-1]\n",
    "ranks = sorted(zip(np.abs(lrcoef),names), reverse=True)\n",
    "Ranks = pd.DataFrame(ranks)\n",
    "Ranks['namename'] = Ranks.iloc[:,1]\n",
    "Ranklist3=[]\n",
    "for name in names:\n",
    "    rank = Ranks[(Ranks.namename==name)].index.tolist()\n",
    "    Rank = rank[-1]+1\n",
    "    Ranklist3.append(Rank)\n",
    "print(Ranklist3)"
   ]
  },
  {
   "cell_type": "markdown",
   "metadata": {},
   "source": [
    "# Random Forest（multivariable）"
   ]
  },
  {
   "cell_type": "code",
   "execution_count": 6,
   "metadata": {},
   "outputs": [
    {
     "name": "stdout",
     "output_type": "stream",
     "text": [
      "[50, 61, 49, 43, 5, 14, 64, 62, 23, 58, 48, 47, 32, 59, 11, 41, 60, 63, 44, 21, 17, 8, 39, 18, 25, 52, 2, 56, 26, 35, 42, 46, 27, 1, 33, 22, 20, 53, 24, 9, 19, 3, 34, 4, 38, 7, 31, 54, 30, 28, 51, 57, 37, 55, 15, 10, 13, 6, 29, 16, 12, 45, 40, 36]\n"
     ]
    }
   ],
   "source": [
    "rf = RandomForestRegressor()\n",
    "rf.fit(Xarray,yarray)\n",
    "ranks = sorted(zip(rf.feature_importances_ , names), reverse=True)\n",
    "Ranks = pd.DataFrame(ranks)\n",
    "Ranks['namename'] = Ranks.iloc[:,1]\n",
    "Ranklist4=[]\n",
    "for name in names:\n",
    "    rank = Ranks[(Ranks.namename==name)].index.tolist()\n",
    "    Rank = rank[-1]+1\n",
    "    Ranklist4.append(Rank)\n",
    "print(Ranklist4)"
   ]
  },
  {
   "cell_type": "markdown",
   "metadata": {},
   "source": [
    "# Recursive Feature Elimination "
   ]
  },
  {
   "cell_type": "code",
   "execution_count": 7,
   "metadata": {},
   "outputs": [
    {
     "name": "stdout",
     "output_type": "stream",
     "text": [
      "[57, 38, 42, 8, 45, 56, 54, 20, 25, 37, 46, 33, 34, 53, 64, 28, 15, 52, 49, 1, 26, 50, 48, 43, 41, 31, 30, 19, 2, 58, 51, 17, 3, 10, 47, 23, 12, 36, 62, 27, 32, 60, 7, 6, 14, 22, 16, 63, 61, 21, 40, 44, 24, 11, 39, 59, 55, 4, 29, 35, 9, 18, 5, 13]\n"
     ]
    }
   ],
   "source": [
    "rfe = RFE(lr, n_features_to_select=5)\n",
    "rfe.fit(Xarray,yarray)\n",
    "ranks = sorted(zip(rfe.ranking_ , names), reverse=False)\n",
    "Ranks = pd.DataFrame(ranks)\n",
    "Ranks['namename'] = Ranks.iloc[:,1]\n",
    "Ranklist5=[]\n",
    "for name in names:\n",
    "    rank = Ranks[(Ranks.namename==name)].index.tolist()\n",
    "    Rank = rank[-1]+1\n",
    "    Ranklist5.append(Rank)\n",
    "print(Ranklist5)"
   ]
  },
  {
   "cell_type": "markdown",
   "metadata": {},
   "source": [
    "# Get the mean absolute rank of each factor"
   ]
  },
  {
   "cell_type": "code",
   "execution_count": 9,
   "metadata": {},
   "outputs": [
    {
     "name": "stdout",
     "output_type": "stream",
     "text": [
      "       0       1\n",
      "0   15.8  Attr58\n",
      "1   18.0  Attr29\n",
      "2   19.8  Attr20\n",
      "3   20.0  Attr46\n",
      "4   20.2  Attr44\n",
      "5   22.2  Attr64\n",
      "6   22.6  Attr54\n",
      "7   23.2  Attr53\n",
      "8   23.8  Attr33\n",
      "9   23.8  Attr34\n",
      "10  24.4  Attr21\n",
      "11  24.6  Attr61\n",
      "12  24.6  Attr63\n",
      "13  24.8  Attr43\n",
      "14  25.0  Attr24\n",
      "15  25.4  Attr27\n",
      "16  26.2  Attr37\n",
      "17  26.4  Attr25\n",
      "18  27.2  Attr22\n",
      "19  27.4  Attr40\n",
      "20  28.2  Attr38\n",
      "21  28.2  Attr62\n",
      "22  28.4  Attr16\n",
      "23  28.4  Attr41\n",
      "24  28.6  Attr36\n",
      "25  28.8  Attr47\n",
      "26  29.0   Attr9\n",
      "27  29.6   Attr4\n",
      "28  29.8  Attr28\n",
      "29  30.2   Attr2\n",
      "..   ...     ...\n",
      "34  31.2  Attr55\n",
      "35  31.4   Attr3\n",
      "36  33.2   Attr5\n",
      "37  33.8  Attr12\n",
      "38  34.4  Attr26\n",
      "39  34.6  Attr32\n",
      "40  34.8  Attr45\n",
      "41  35.2  Attr42\n",
      "42  35.2  Attr59\n",
      "43  35.8  Attr56\n",
      "44  35.8  Attr60\n",
      "45  36.6   Attr1\n",
      "46  37.0  Attr13\n",
      "47  37.8  Attr11\n",
      "48  38.8  Attr39\n",
      "49  39.6  Attr17\n",
      "50  39.8  Attr49\n",
      "51  39.8   Attr8\n",
      "52  40.0  Attr57\n",
      "53  41.2  Attr10\n",
      "54  41.4  Attr48\n",
      "55  42.0  Attr15\n",
      "56  42.6  Attr23\n",
      "57  45.6  Attr52\n",
      "58  47.0  Attr31\n",
      "59  50.4  Attr18\n",
      "60  50.8  Attr30\n",
      "61  51.6  Attr14\n",
      "62  52.6   Attr7\n",
      "63  53.2  Attr19\n",
      "\n",
      "[64 rows x 2 columns]\n"
     ]
    }
   ],
   "source": [
    "Meanrank=[]\n",
    "for i in range(64):\n",
    "    meanrank = (Ranklist1[i]+Ranklist2[i]+Ranklist3[i]+Ranklist4[i]+Ranklist5[i])/5\n",
    "    Meanrank.append(meanrank)\n",
    "\n",
    "MeanRank=np.array(Meanrank)\n",
    "result = sorted(zip(MeanRank , names), reverse=False)\n",
    "Result = pd.DataFrame(result)\n",
    "print(Result)"
   ]
  },
  {
   "cell_type": "markdown",
   "metadata": {},
   "source": [
    "# Get the mean relative rank of each factor"
   ]
  },
  {
   "cell_type": "code",
   "execution_count": 10,
   "metadata": {},
   "outputs": [
    {
     "name": "stdout",
     "output_type": "stream",
     "text": [
      "              0       1\n",
      "0    163.711180  Attr58\n",
      "1    181.076779  Attr29\n",
      "2    218.956449  Attr16\n",
      "3    228.162833  Attr21\n",
      "4    230.824609  Attr46\n",
      "5    247.825694  Attr12\n",
      "6    264.750449  Attr13\n",
      "7    267.985265  Attr41\n",
      "8    272.297085  Attr50\n",
      "9    306.331021  Attr20\n",
      "10   312.785227  Attr59\n",
      "11   328.227199  Attr26\n",
      "12   332.464985  Attr53\n",
      "13   352.175670  Attr33\n",
      "14   359.505580  Attr25\n",
      "15   359.877455  Attr19\n",
      "16   366.399638  Attr63\n",
      "17   374.226421  Attr64\n",
      "18   381.080703  Attr52\n",
      "19   389.507895   Attr9\n",
      "20   402.181551  Attr24\n",
      "21   403.069729  Attr44\n",
      "22   409.978700   Attr4\n",
      "23   430.333274  Attr27\n",
      "24   436.913125  Attr28\n",
      "25   438.728753  Attr43\n",
      "26   439.766036  Attr54\n",
      "27   440.328557  Attr36\n",
      "28   456.910414  Attr34\n",
      "29   457.745124  Attr61\n",
      "..          ...     ...\n",
      "34   484.456750  Attr47\n",
      "35   497.280434  Attr38\n",
      "36   504.896320  Attr35\n",
      "37   510.790907  Attr51\n",
      "38   527.146058   Attr3\n",
      "39   531.475251  Attr40\n",
      "40   534.021519  Attr55\n",
      "41   538.092727  Attr22\n",
      "42   568.680578  Attr31\n",
      "43   582.230942  Attr30\n",
      "44   589.421457  Attr23\n",
      "45   590.679154  Attr14\n",
      "46   597.595181  Attr57\n",
      "47   602.126424   Attr7\n",
      "48   623.382494   Attr5\n",
      "49   626.065740   Attr2\n",
      "50   655.005373   Attr6\n",
      "51   691.490939  Attr18\n",
      "52   695.487206  Attr49\n",
      "53   730.587516   Attr8\n",
      "54   735.150264  Attr32\n",
      "55   774.273806  Attr56\n",
      "56   784.056676  Attr10\n",
      "57   789.858705  Attr17\n",
      "58   791.929597  Attr42\n",
      "59   795.179169  Attr60\n",
      "60   801.349166  Attr39\n",
      "61   825.116946   Attr1\n",
      "62  1007.509638  Attr48\n",
      "63  1033.234146  Attr15\n",
      "\n",
      "[64 rows x 2 columns]\n"
     ]
    }
   ],
   "source": [
    "Meanrank_STD=[]\n",
    "\n",
    "for i in range(64):\n",
    "    meanrank = (Ranklist1[i]+Ranklist2[i]+Ranklist3[i]+Ranklist4[i]+Ranklist5[i])/5\n",
    "    std = np.std([Ranklist1[i],Ranklist2[i],Ranklist3[i],Ranklist4[i],Ranklist5[i]])\n",
    "    meanrank_std = meanrank*std\n",
    "    Meanrank_STD.append(meanrank_std)\n",
    "\n",
    "MeanRank_STD=np.array(Meanrank_STD)\n",
    "result = sorted(zip(MeanRank_STD , names), reverse=False)\n",
    "Result = pd.DataFrame(result)\n",
    "print(Result)"
   ]
  },
  {
   "cell_type": "code",
   "execution_count": null,
   "metadata": {
    "collapsed": true
   },
   "outputs": [],
   "source": []
  }
 ],
 "metadata": {
  "kernelspec": {
   "display_name": "Python 3",
   "language": "python",
   "name": "python3"
  }
 },
 "nbformat": 4,
 "nbformat_minor": 2
}
