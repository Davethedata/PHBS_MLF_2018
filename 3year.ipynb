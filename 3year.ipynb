{
 "cells": [
  {
   "cell_type": "code",
   "execution_count": 1,
   "metadata": {
    "collapsed": true
   },
   "outputs": [],
   "source": [
    "from sklearn.datasets import load_boston\n",
    "from sklearn.linear_model import (LinearRegression, Ridge, \n",
    "                                  Lasso, RandomizedLasso)\n",
    "from sklearn.linear_model import LogisticRegression\n",
    "from sklearn.feature_selection import RFE, f_classif\n",
    "from sklearn.preprocessing import MinMaxScaler\n",
    "from sklearn.ensemble import RandomForestRegressor\n",
    "\n",
    "from sklearn.model_selection import cross_val_score, ShuffleSplit\n",
    "import numpy as np\n",
    "import pandas as pd"
   ]
  },
  {
   "cell_type": "code",
   "execution_count": 2,
   "metadata": {
    "collapsed": true
   },
   "outputs": [],
   "source": [
    "dataset = pd.read_csv(r'C:\\Users\\thinkpad\\Documents\\GitHub\\PHBS_MLF_2018\\data\\3year.arff.csv')\n",
    "target='class'#二分类的名称\n",
    "x_columns = [x for x in dataset.columns if x not in [target]]\n",
    "X = dataset[x_columns]\n",
    "y = dataset['class']\n",
    "names = X.columns\n",
    "Xarray = X.values\n",
    "yarray = y.values\n",
    "ranks = {}"
   ]
  },
  {
   "cell_type": "markdown",
   "metadata": {},
   "source": [
    "#  Univariate feature selection"
   ]
  },
  {
   "cell_type": "markdown",
   "metadata": {},
   "source": [
    "### Pearson Correlation"
   ]
  },
  {
   "cell_type": "code",
   "execution_count": 3,
   "metadata": {
    "scrolled": true
   },
   "outputs": [
    {
     "name": "stdout",
     "output_type": "stream",
     "text": [
      "[14, 5, 7, 54, 46, 10, 13, 31, 60, 4, 15, 21, 59, 12, 32, 28, 30, 17, 37, 58, 44, 2, 36, 9, 3, 29, 25, 34, 11, 23, 35, 64, 18, 38, 1, 19, 45, 6, 62, 43, 50, 56, 49, 55, 51, 47, 39, 16, 48, 53, 8, 42, 33, 26, 20, 57, 22, 40, 63, 41, 27, 24, 52, 61]\n"
     ]
    }
   ],
   "source": [
    "f, pval  = f_classif(Xarray, yarray)\n",
    "ranks = sorted(zip(f,names), reverse=True)\n",
    "Ranks = pd.DataFrame(ranks)\n",
    "Ranks['namename'] = Ranks.iloc[:,1]\n",
    "Ranklist1=[]\n",
    "for name in names:\n",
    "    rank = Ranks[(Ranks.namename==name)].index.tolist()\n",
    "    Rank = rank[-1]+1\n",
    "    Ranklist1.append(Rank)\n",
    "print(Ranklist1)"
   ]
  },
  {
   "cell_type": "markdown",
   "metadata": {},
   "source": [
    "### Random Forest Regression Based Ranking"
   ]
  },
  {
   "cell_type": "markdown",
   "metadata": {},
   "source": [
    "# Logistic model and regularization"
   ]
  },
  {
   "cell_type": "markdown",
   "metadata": {},
   "source": [
    "### L1 regularization"
   ]
  },
  {
   "cell_type": "code",
   "execution_count": 4,
   "metadata": {},
   "outputs": [
    {
     "name": "stdout",
     "output_type": "stream",
     "text": [
      "[6, 19, 14, 26, 58, 24, 60, 49, 16, 8, 15, 28, 22, 64, 59, 33, 43, 63, 12, 45, 3, 1, 36, 11, 20, 29, 56, 37, 23, 39, 10, 50, 21, 34, 4, 17, 55, 13, 62, 9, 40, 30, 46, 48, 52, 5, 53, 2, 61, 32, 7, 31, 41, 35, 57, 25, 38, 27, 44, 51, 42, 54, 18, 47]\n"
     ]
    }
   ],
   "source": [
    "lr = LogisticRegression(C=1.0, penalty=\"l1\", random_state=0)\n",
    "lr.fit(Xarray,yarray)\n",
    "lrcoef = lr.coef_[-1]\n",
    "ranks = sorted(zip(np.abs(lrcoef),names), reverse=True)\n",
    "Ranks = pd.DataFrame(ranks)\n",
    "Ranks['namename'] = Ranks.iloc[:,1]\n",
    "Ranklist2 =[]\n",
    "for name in names:\n",
    "    rank = Ranks[(Ranks.namename==name)].index.tolist()\n",
    "    Rank = rank[-1]+1\n",
    "    Ranklist2.append(Rank)\n",
    "print(Ranklist2)"
   ]
  },
  {
   "cell_type": "markdown",
   "metadata": {},
   "source": [
    "### L2 regularization"
   ]
  },
  {
   "cell_type": "code",
   "execution_count": 5,
   "metadata": {},
   "outputs": [
    {
     "name": "stdout",
     "output_type": "stream",
     "text": [
      "[61, 40, 44, 19, 46, 50, 57, 12, 33, 38, 49, 30, 39, 56, 36, 31, 11, 55, 51, 5, 16, 52, 48, 45, 41, 34, 10, 20, 26, 62, 53, 6, 14, 18, 54, 29, 8, 37, 59, 32, 21, 60, 1, 2, 27, 23, 3, 64, 47, 24, 43, 42, 22, 17, 15, 63, 58, 25, 35, 4, 9, 28, 13, 7]\n"
     ]
    }
   ],
   "source": [
    "lr = LogisticRegression(C=1.0, penalty=\"l2\", random_state=0)\n",
    "lr.fit(Xarray,yarray)\n",
    "lrcoef = lr.coef_[-1]\n",
    "ranks = sorted(zip(np.abs(lrcoef),names), reverse=True)\n",
    "Ranks = pd.DataFrame(ranks)\n",
    "Ranks['namename'] = Ranks.iloc[:,1]\n",
    "Ranklist3=[]\n",
    "for name in names:\n",
    "    rank = Ranks[(Ranks.namename==name)].index.tolist()\n",
    "    Rank = rank[-1]+1\n",
    "    Ranklist3.append(Rank)\n",
    "print(Ranklist3)"
   ]
  },
  {
   "cell_type": "markdown",
   "metadata": {},
   "source": [
    "# Random Forest（multivariable）"
   ]
  },
  {
   "cell_type": "code",
   "execution_count": 6,
   "metadata": {},
   "outputs": [
    {
     "name": "stdout",
     "output_type": "stream",
     "text": [
      "[63, 60, 57, 47, 11, 12, 59, 52, 36, 53, 50, 48, 27, 64, 15, 34, 58, 61, 55, 25, 5, 4, 62, 9, 20, 14, 2, 54, 16, 39, 49, 42, 28, 1, 19, 22, 17, 31, 21, 18, 10, 23, 44, 24, 45, 3, 35, 40, 46, 29, 30, 56, 32, 43, 7, 6, 26, 8, 38, 37, 13, 51, 41, 33]\n"
     ]
    }
   ],
   "source": [
    "rf = RandomForestRegressor()\n",
    "rf.fit(Xarray,yarray)\n",
    "ranks = sorted(zip(rf.feature_importances_ , names), reverse=True)\n",
    "Ranks = pd.DataFrame(ranks)\n",
    "Ranks['namename'] = Ranks.iloc[:,1]\n",
    "Ranklist4=[]\n",
    "for name in names:\n",
    "    rank = Ranks[(Ranks.namename==name)].index.tolist()\n",
    "    Rank = rank[-1]+1\n",
    "    Ranklist4.append(Rank)\n",
    "print(Ranklist4)"
   ]
  },
  {
   "cell_type": "markdown",
   "metadata": {},
   "source": [
    "# Recursive Feature Elimination "
   ]
  },
  {
   "cell_type": "code",
   "execution_count": 7,
   "metadata": {
    "scrolled": true
   },
   "outputs": [
    {
     "name": "stdout",
     "output_type": "stream",
     "text": [
      "[54, 2, 57, 21, 59, 56, 25, 33, 27, 1, 30, 17, 16, 24, 58, 26, 35, 22, 50, 40, 3, 9, 15, 10, 11, 18, 51, 29, 12, 55, 60, 49, 14, 36, 4, 34, 52, 8, 61, 5, 37, 62, 42, 41, 45, 6, 48, 64, 32, 19, 7, 23, 31, 28, 53, 63, 38, 20, 39, 46, 43, 47, 13, 44]\n"
     ]
    }
   ],
   "source": [
    "rfe = RFE(lr, n_features_to_select=5)\n",
    "rfe.fit(Xarray,yarray)\n",
    "ranks = sorted(zip(rfe.ranking_ , names), reverse=False)\n",
    "Ranks = pd.DataFrame(ranks)\n",
    "Ranks['namename'] = Ranks.iloc[:,1]\n",
    "Ranklist5=[]\n",
    "for name in names:\n",
    "    rank = Ranks[(Ranks.namename==name)].index.tolist()\n",
    "    Rank = rank[-1]+1\n",
    "    Ranklist5.append(Rank)\n",
    "print(Ranklist5)"
   ]
  },
  {
   "cell_type": "markdown",
   "metadata": {},
   "source": [
    "# Get the mean relative rank of each factor"
   ]
  },
  {
   "cell_type": "code",
   "execution_count": 9,
   "metadata": {},
   "outputs": [
    {
     "name": "stdout",
     "output_type": "stream",
     "text": [
      "       0       1\n",
      "0   13.6  Attr22\n",
      "1   14.2  Attr21\n",
      "2   16.4  Attr35\n",
      "3   16.8  Attr24\n",
      "4   16.8  Attr46\n",
      "5   17.6  Attr29\n",
      "6   19.0  Attr25\n",
      "7   19.0  Attr33\n",
      "8   19.0  Attr38\n",
      "9   19.0  Attr51\n",
      "10  20.8  Attr10\n",
      "11  21.4  Attr40\n",
      "12  24.0  Attr58\n",
      "13  24.2  Attr36\n",
      "14  24.8  Attr26\n",
      "15  25.2   Attr2\n",
      "16  25.4  Attr34\n",
      "17  26.8  Attr61\n",
      "18  27.4  Attr63\n",
      "19  28.8  Attr12\n",
      "20  28.8  Attr27\n",
      "21  29.8  Attr54\n",
      "22  30.4  Attr16\n",
      "23  30.4  Attr55\n",
      "24  30.4   Attr6\n",
      "25  31.4  Attr50\n",
      "26  31.6  Attr41\n",
      "27  31.8  Attr11\n",
      "28  31.8  Attr53\n",
      "29  32.6  Attr13\n",
      "..   ...     ...\n",
      "34  34.8  Attr28\n",
      "35  35.4  Attr17\n",
      "36  35.4  Attr37\n",
      "37  35.4   Attr8\n",
      "38  35.6  Attr47\n",
      "39  35.8   Attr3\n",
      "40  35.8  Attr60\n",
      "41  36.4  Attr43\n",
      "42  36.4  Attr57\n",
      "43  37.2  Attr48\n",
      "44  38.4  Attr64\n",
      "45  38.8  Attr52\n",
      "46  39.4  Attr23\n",
      "47  39.6   Attr1\n",
      "48  40.0  Attr15\n",
      "49  40.8  Attr62\n",
      "50  41.0  Attr19\n",
      "51  41.4  Attr31\n",
      "52  42.2  Attr32\n",
      "53  42.8  Attr56\n",
      "54  42.8   Attr7\n",
      "55  43.6  Attr18\n",
      "56  43.6  Attr30\n",
      "57  43.8  Attr59\n",
      "58  44.0  Attr14\n",
      "59  44.0  Attr45\n",
      "60  44.0   Attr5\n",
      "61  46.2  Attr42\n",
      "62  46.8  Attr49\n",
      "63  53.0  Attr39\n",
      "\n",
      "[64 rows x 2 columns]\n"
     ]
    }
   ],
   "source": [
    "Meanrank=[]\n",
    "for i in range(64):\n",
    "    meanrank = (Ranklist1[i]+Ranklist2[i]+Ranklist3[i]+Ranklist4[i]+Ranklist5[i])/5\n",
    "    Meanrank.append(meanrank)\n",
    "\n",
    "MeanRank=np.array(Meanrank)\n",
    "result = sorted(zip(MeanRank , names), reverse=False)\n",
    "Result = pd.DataFrame(result)\n",
    "print(Result)"
   ]
  },
  {
   "cell_type": "markdown",
   "metadata": {},
   "source": [
    "# Get the mean relative rank of each factor"
   ]
  },
  {
   "cell_type": "code",
   "execution_count": 10,
   "metadata": {},
   "outputs": [
    {
     "name": "stdout",
     "output_type": "stream",
     "text": [
      "             0       1\n",
      "0    91.402442  Attr16\n",
      "1    99.091877  Attr33\n",
      "2   104.775448  Attr29\n",
      "3   154.121895  Attr36\n",
      "4   186.511829  Attr26\n",
      "5   192.278273  Attr53\n",
      "6   222.428394  Attr21\n",
      "7   237.207433  Attr24\n",
      "8   239.430157  Attr38\n",
      "9   241.232668  Attr25\n",
      "10  248.953008  Attr58\n",
      "11  260.745743  Attr54\n",
      "12  263.797935  Attr22\n",
      "13  280.796308  Attr46\n",
      "14  282.583085  Attr51\n",
      "15  304.632589  Attr40\n",
      "16  307.715567  Attr12\n",
      "17  325.133878  Attr35\n",
      "18  358.347103  Attr34\n",
      "19  366.506740  Attr50\n",
      "20  379.160808  Attr61\n",
      "21  389.635694  Attr28\n",
      "22  395.510809  Attr45\n",
      "23  430.356474  Attr49\n",
      "24  433.399334  Attr10\n",
      "25  434.421406  Attr52\n",
      "26  439.224688  Attr59\n",
      "27  440.654702  Attr63\n",
      "28  450.718367  Attr41\n",
      "29  456.729354  Attr57\n",
      "..         ...     ...\n",
      "34  503.941940  Attr62\n",
      "35  508.874230   Attr8\n",
      "36  546.858393  Attr17\n",
      "37  553.804043   Attr2\n",
      "38  582.411956   Attr6\n",
      "39  593.632659  Attr60\n",
      "40  596.284796  Attr30\n",
      "41  611.195476  Attr23\n",
      "42  620.210524  Attr27\n",
      "43  622.989828  Attr47\n",
      "44  624.673770  Attr55\n",
      "45  629.149412  Attr20\n",
      "46  644.104650  Attr19\n",
      "47  646.894118  Attr44\n",
      "48  649.757843  Attr43\n",
      "49  666.933280  Attr15\n",
      "50  679.311150  Attr37\n",
      "51  693.585218  Attr64\n",
      "52  732.487569  Attr31\n",
      "53  755.422980  Attr42\n",
      "54  762.934874   Attr3\n",
      "55  766.661333   Attr5\n",
      "56  821.069297  Attr32\n",
      "57  848.433761   Attr7\n",
      "58  849.985176  Attr39\n",
      "59  868.329876  Attr18\n",
      "60  931.159917  Attr48\n",
      "61  957.543524  Attr14\n",
      "62  969.545167   Attr1\n",
      "63  992.517143  Attr56\n",
      "\n",
      "[64 rows x 2 columns]\n"
     ]
    }
   ],
   "source": [
    "Meanrank_STD=[]\n",
    "\n",
    "for i in range(64):\n",
    "    meanrank = (Ranklist1[i]+Ranklist2[i]+Ranklist3[i]+Ranklist4[i]+Ranklist5[i])/5\n",
    "    std = np.std([Ranklist1[i],Ranklist2[i],Ranklist3[i],Ranklist4[i],Ranklist5[i]])\n",
    "    meanrank_std = meanrank*std\n",
    "    Meanrank_STD.append(meanrank_std)\n",
    "\n",
    "MeanRank_STD=np.array(Meanrank_STD)\n",
    "result = sorted(zip(MeanRank_STD , names), reverse=False)\n",
    "Result = pd.DataFrame(result)\n",
    "print(Result)"
   ]
  },
  {
   "cell_type": "code",
   "execution_count": null,
   "metadata": {
    "collapsed": true
   },
   "outputs": [],
   "source": []
  }
 ],
 "metadata": {
  "kernelspec": {
   "display_name": "Python 3",
   "language": "python",
   "name": "python3"
  }
 },
 "nbformat": 4,
 "nbformat_minor": 2
}
