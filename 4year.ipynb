{
 "cells": [
  {
   "cell_type": "code",
   "execution_count": 1,
   "metadata": {
    "collapsed": true
   },
   "outputs": [],
   "source": [
    "from sklearn.datasets import load_boston\n",
    "from sklearn.linear_model import (LinearRegression, Ridge, \n",
    "                                  Lasso, RandomizedLasso)\n",
    "from sklearn.linear_model import LogisticRegression\n",
    "from sklearn.feature_selection import RFE, f_classif\n",
    "from sklearn.preprocessing import MinMaxScaler\n",
    "from sklearn.ensemble import RandomForestRegressor\n",
    "\n",
    "from sklearn.model_selection import cross_val_score, ShuffleSplit\n",
    "import numpy as np\n",
    "import pandas as pd"
   ]
  },
  {
   "cell_type": "code",
   "execution_count": 2,
   "metadata": {
    "collapsed": true
   },
   "outputs": [],
   "source": [
    "dataset = pd.read_csv(r'C:\\Users\\thinkpad\\Documents\\GitHub\\PHBS_MLF_2018\\data\\4year.arff.csv')\n",
    "target='class'#二分类的名称\n",
    "x_columns = [x for x in dataset.columns if x not in [target]]\n",
    "X = dataset[x_columns]\n",
    "y = dataset['class']\n",
    "names = X.columns\n",
    "Xarray = X.values\n",
    "yarray = y.values\n",
    "ranks = {}"
   ]
  },
  {
   "cell_type": "markdown",
   "metadata": {},
   "source": [
    "#  Univariate feature selection"
   ]
  },
  {
   "cell_type": "markdown",
   "metadata": {},
   "source": [
    "### Pearson Correlation"
   ]
  },
  {
   "cell_type": "code",
   "execution_count": 3,
   "metadata": {
    "scrolled": true
   },
   "outputs": [
    {
     "name": "stdout",
     "output_type": "stream",
     "text": [
      "[64, 45, 41, 21, 16, 40, 60, 22, 5, 46, 59, 54, 32, 61, 1, 52, 24, 55, 2, 48, 50, 58, 9, 3, 47, 53, 37, 26, 62, 38, 7, 28, 14, 8, 63, 25, 43, 44, 56, 18, 35, 36, 17, 19, 12, 23, 29, 51, 42, 20, 39, 15, 34, 27, 49, 57, 13, 4, 31, 30, 6, 11, 33, 10]\n"
     ]
    }
   ],
   "source": [
    "f, pval  = f_classif(Xarray, yarray)\n",
    "ranks = sorted(zip(f,names), reverse=False)\n",
    "Ranks = pd.DataFrame(ranks)\n",
    "Ranks['namename'] = Ranks.iloc[:,1]\n",
    "Ranklist1=[]\n",
    "for name in names:\n",
    "    rank = Ranks[(Ranks.namename==name)].index.tolist()\n",
    "    Rank = rank[-1]+1\n",
    "    Ranklist1.append(Rank)\n",
    "print(Ranklist1)"
   ]
  },
  {
   "cell_type": "markdown",
   "metadata": {},
   "source": [
    "### Random Forest Regression Based Ranking"
   ]
  },
  {
   "cell_type": "markdown",
   "metadata": {},
   "source": [
    "# Logistic model and regularization"
   ]
  },
  {
   "cell_type": "markdown",
   "metadata": {},
   "source": [
    "### L1 regularization"
   ]
  },
  {
   "cell_type": "code",
   "execution_count": 4,
   "metadata": {},
   "outputs": [
    {
     "name": "stdout",
     "output_type": "stream",
     "text": [
      "[64, 7, 10, 27, 59, 44, 5, 60, 17, 9, 1, 23, 34, 6, 61, 18, 35, 4, 22, 48, 33, 63, 62, 42, 28, 20, 56, 39, 16, 38, 25, 50, 32, 29, 3, 15, 46, 11, 14, 13, 41, 21, 58, 52, 45, 12, 49, 2, 24, 30, 8, 26, 53, 40, 57, 19, 37, 43, 36, 47, 51, 54, 31, 55]\n"
     ]
    }
   ],
   "source": [
    "lr = LogisticRegression(C=1.0, penalty=\"l1\", random_state=0)\n",
    "lr.fit(Xarray,yarray)\n",
    "lrcoef = lr.coef_[-1]\n",
    "ranks = sorted(zip(np.abs(lrcoef),names), reverse=True)\n",
    "Ranks = pd.DataFrame(ranks)\n",
    "Ranks['namename'] = Ranks.iloc[:,1]\n",
    "Ranklist2 =[]\n",
    "for name in names:\n",
    "    rank = Ranks[(Ranks.namename==name)].index.tolist()\n",
    "    Rank = rank[-1]+1\n",
    "    Ranklist2.append(Rank)\n",
    "print(Ranklist2)"
   ]
  },
  {
   "cell_type": "markdown",
   "metadata": {},
   "source": [
    "### L2 regularization"
   ]
  },
  {
   "cell_type": "code",
   "execution_count": 5,
   "metadata": {},
   "outputs": [
    {
     "name": "stdout",
     "output_type": "stream",
     "text": [
      "[57, 38, 47, 15, 59, 54, 56, 12, 28, 37, 50, 29, 44, 55, 61, 25, 11, 51, 64, 3, 32, 53, 62, 45, 42, 27, 48, 23, 14, 24, 58, 2, 10, 13, 52, 26, 6, 36, 22, 30, 31, 60, 4, 17, 40, 20, 1, 63, 46, 19, 41, 33, 18, 16, 43, 21, 49, 34, 35, 5, 8, 39, 9, 7]\n"
     ]
    }
   ],
   "source": [
    "lr = LogisticRegression(C=1.0, penalty=\"l2\", random_state=0)\n",
    "lr.fit(Xarray,yarray)\n",
    "lrcoef = lr.coef_[-1]\n",
    "ranks = sorted(zip(np.abs(lrcoef),names), reverse=True)\n",
    "Ranks = pd.DataFrame(ranks)\n",
    "Ranks['namename'] = Ranks.iloc[:,1]\n",
    "Ranklist3=[]\n",
    "for name in names:\n",
    "    rank = Ranks[(Ranks.namename==name)].index.tolist()\n",
    "    Rank = rank[-1]+1\n",
    "    Ranklist3.append(Rank)\n",
    "print(Ranklist3)"
   ]
  },
  {
   "cell_type": "markdown",
   "metadata": {},
   "source": [
    "# Random Forest（multivariable）"
   ]
  },
  {
   "cell_type": "code",
   "execution_count": 6,
   "metadata": {},
   "outputs": [
    {
     "name": "stdout",
     "output_type": "stream",
     "text": [
      "[58, 48, 34, 30, 19, 17, 61, 59, 32, 57, 45, 53, 21, 63, 25, 36, 52, 60, 54, 39, 1, 6, 47, 11, 22, 26, 3, 51, 4, 46, 43, 56, 41, 2, 8, 16, 28, 23, 13, 15, 24, 5, 37, 18, 44, 9, 38, 33, 31, 50, 35, 64, 49, 40, 12, 10, 20, 7, 42, 29, 14, 55, 62, 27]\n"
     ]
    }
   ],
   "source": [
    "rf = RandomForestRegressor()\n",
    "rf.fit(Xarray,yarray)\n",
    "ranks = sorted(zip(rf.feature_importances_ , names), reverse=True)\n",
    "Ranks = pd.DataFrame(ranks)\n",
    "Ranks['namename'] = Ranks.iloc[:,1]\n",
    "Ranklist4=[]\n",
    "for name in names:\n",
    "    rank = Ranks[(Ranks.namename==name)].index.tolist()\n",
    "    Rank = rank[-1]+1\n",
    "    Ranklist4.append(Rank)\n",
    "print(Ranklist4)"
   ]
  },
  {
   "cell_type": "markdown",
   "metadata": {},
   "source": [
    "# Recursive Feature Elimination "
   ]
  },
  {
   "cell_type": "code",
   "execution_count": 7,
   "metadata": {},
   "outputs": [
    {
     "name": "stdout",
     "output_type": "stream",
     "text": [
      "[58, 4, 17, 25, 57, 36, 6, 20, 13, 1, 2, 28, 47, 3, 63, 11, 19, 7, 64, 42, 30, 18, 61, 38, 27, 12, 54, 34, 10, 45, 59, 53, 24, 32, 5, 14, 39, 15, 23, 8, 40, 60, 49, 48, 50, 9, 37, 62, 55, 44, 16, 29, 43, 33, 52, 22, 35, 21, 31, 41, 51, 56, 26, 46]\n"
     ]
    }
   ],
   "source": [
    "rfe = RFE(lr, n_features_to_select=5)\n",
    "rfe.fit(Xarray,yarray)\n",
    "ranks = sorted(zip(rfe.ranking_ , names), reverse=False)\n",
    "Ranks = pd.DataFrame(ranks)\n",
    "Ranks['namename'] = Ranks.iloc[:,1]\n",
    "Ranklist5=[]\n",
    "for name in names:\n",
    "    rank = Ranks[(Ranks.namename==name)].index.tolist()\n",
    "    Rank = rank[-1]+1\n",
    "    Ranklist5.append(Rank)\n",
    "print(Ranklist5)"
   ]
  },
  {
   "cell_type": "markdown",
   "metadata": {},
   "source": [
    "# Get the mean relative rank of each factor"
   ]
  },
  {
   "cell_type": "code",
   "execution_count": 9,
   "metadata": {},
   "outputs": [
    {
     "name": "stdout",
     "output_type": "stream",
     "text": [
      "       0       1\n",
      "0   14.6  Attr46\n",
      "1   16.8  Attr34\n",
      "2   16.8  Attr40\n",
      "3   19.0   Attr9\n",
      "4   19.2  Attr36\n",
      "5   21.2  Attr29\n",
      "6   21.8  Attr58\n",
      "7   23.6   Attr4\n",
      "8   24.2  Attr33\n",
      "9   25.6  Attr39\n",
      "10  25.8  Attr38\n",
      "11  25.8  Attr56\n",
      "12  26.0  Attr61\n",
      "13  26.2  Attr35\n",
      "14  27.6  Attr26\n",
      "15  27.8  Attr24\n",
      "16  27.8  Attr51\n",
      "17  28.2  Attr17\n",
      "18  28.4  Attr16\n",
      "19  28.4   Attr2\n",
      "20  29.0  Attr64\n",
      "21  29.2  Attr21\n",
      "22  29.8   Attr3\n",
      "23  30.0  Attr10\n",
      "24  30.4  Attr60\n",
      "25  30.8  Attr44\n",
      "26  30.8  Attr47\n",
      "27  30.8  Attr57\n",
      "28  31.2  Attr54\n",
      "29  31.4  Attr11\n",
      "..   ...     ...\n",
      "34  33.2  Attr25\n",
      "35  33.4  Attr52\n",
      "36  34.2  Attr41\n",
      "37  34.6  Attr28\n",
      "38  34.6   Attr8\n",
      "39  35.0  Attr59\n",
      "40  35.4  Attr18\n",
      "41  35.6  Attr13\n",
      "42  36.0  Attr20\n",
      "43  36.4  Attr42\n",
      "44  37.4  Attr12\n",
      "45  37.6  Attr14\n",
      "46  37.6   Attr7\n",
      "47  37.8  Attr32\n",
      "48  38.2  Attr30\n",
      "49  38.2  Attr45\n",
      "50  38.2   Attr6\n",
      "51  38.4  Attr31\n",
      "52  39.4  Attr53\n",
      "53  39.6  Attr22\n",
      "54  39.6  Attr27\n",
      "55  39.6  Attr49\n",
      "56  41.2  Attr19\n",
      "57  42.0   Attr5\n",
      "58  42.2  Attr15\n",
      "59  42.2  Attr48\n",
      "60  42.6  Attr55\n",
      "61  43.0  Attr62\n",
      "62  48.2  Attr23\n",
      "63  60.2   Attr1\n",
      "\n",
      "[64 rows x 2 columns]\n"
     ]
    }
   ],
   "source": [
    "Meanrank=[]\n",
    "for i in range(64):\n",
    "    meanrank = (Ranklist1[i]+Ranklist2[i]+Ranklist3[i]+Ranklist4[i]+Ranklist5[i])/5\n",
    "    Meanrank.append(meanrank)\n",
    "\n",
    "MeanRank=np.array(Meanrank)\n",
    "result = sorted(zip(MeanRank , names), reverse=False)\n",
    "Result = pd.DataFrame(result)\n",
    "print(Result)"
   ]
  },
  {
   "cell_type": "markdown",
   "metadata": {},
   "source": [
    "# Get the mean relative rank of each factor"
   ]
  },
  {
   "cell_type": "code",
   "execution_count": 10,
   "metadata": {},
   "outputs": [
    {
     "name": "stdout",
     "output_type": "stream",
     "text": [
      "              0       1\n",
      "0     84.931351  Attr46\n",
      "1     99.692198  Attr36\n",
      "2    122.720000   Attr4\n",
      "3    123.637043  Attr40\n",
      "4    141.739197  Attr59\n",
      "5    187.321115   Attr9\n",
      "6    188.070812   Attr1\n",
      "7    197.469690  Attr34\n",
      "8    213.469376  Attr41\n",
      "9    275.667638  Attr33\n",
      "10   281.423308  Attr54\n",
      "11   300.204368  Attr30\n",
      "12   318.027581  Attr25\n",
      "13   321.993923  Attr38\n",
      "14   328.421178  Attr58\n",
      "15   329.833568  Attr13\n",
      "16   345.029840  Attr28\n",
      "17   369.394952  Attr51\n",
      "18   380.279527  Attr26\n",
      "19   394.624812  Attr57\n",
      "20   400.956006  Attr17\n",
      "21   402.693777  Attr39\n",
      "22   408.008243  Attr50\n",
      "23   409.038881  Attr16\n",
      "24   417.099113  Attr56\n",
      "25   420.338481   Attr3\n",
      "26   434.229845  Attr49\n",
      "27   437.422092  Attr60\n",
      "28   441.123047  Attr29\n",
      "29   461.840256  Attr21\n",
      "..          ...     ...\n",
      "34   491.221781  Attr53\n",
      "35   497.630858  Attr12\n",
      "36   499.074061  Attr47\n",
      "37   515.006274  Attr45\n",
      "38   535.120173  Attr61\n",
      "39   539.629894   Attr2\n",
      "40   548.655366  Attr52\n",
      "41   551.513719  Attr63\n",
      "42   552.371976  Attr64\n",
      "43   607.109875  Attr20\n",
      "44   645.662451  Attr10\n",
      "45   659.009256  Attr43\n",
      "46   677.035578  Attr35\n",
      "47   679.787089  Attr55\n",
      "48   712.995107   Attr8\n",
      "49   738.298855  Attr62\n",
      "50   767.077846  Attr31\n",
      "51   770.563497  Attr27\n",
      "52   772.600931  Attr32\n",
      "53   779.479307  Attr11\n",
      "54   786.981132  Attr42\n",
      "55   841.678323   Attr5\n",
      "56   870.753654  Attr18\n",
      "57   913.584960  Attr22\n",
      "58   962.826085  Attr48\n",
      "59   983.752436  Attr23\n",
      "60   987.556681   Attr7\n",
      "61  1021.613519  Attr14\n",
      "62  1027.326771  Attr19\n",
      "63  1056.315819  Attr15\n",
      "\n",
      "[64 rows x 2 columns]\n"
     ]
    }
   ],
   "source": [
    "Meanrank_STD=[]\n",
    "\n",
    "for i in range(64):\n",
    "    meanrank = (Ranklist1[i]+Ranklist2[i]+Ranklist3[i]+Ranklist4[i]+Ranklist5[i])/5\n",
    "    std = np.std([Ranklist1[i],Ranklist2[i],Ranklist3[i],Ranklist4[i],Ranklist5[i]])\n",
    "    meanrank_std = meanrank*std\n",
    "    Meanrank_STD.append(meanrank_std)\n",
    "\n",
    "MeanRank_STD=np.array(Meanrank_STD)\n",
    "result = sorted(zip(MeanRank_STD , names), reverse=False)\n",
    "Result = pd.DataFrame(result)\n",
    "print(Result)"
   ]
  },
  {
   "cell_type": "code",
   "execution_count": null,
   "metadata": {
    "collapsed": true
   },
   "outputs": [],
   "source": []
  }
 ],
 "metadata": {
  "kernelspec": {
   "display_name": "Python 3",
   "language": "python",
   "name": "python3"
  }
 },
 "nbformat": 4,
 "nbformat_minor": 2
}
