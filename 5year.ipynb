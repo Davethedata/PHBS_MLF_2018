{
 "cells": [
  {
   "cell_type": "code",
   "execution_count": 13,
   "metadata": {
    "collapsed": true
   },
   "outputs": [],
   "source": [
    "from sklearn.datasets import load_boston\n",
    "from sklearn.linear_model import (LinearRegression, Ridge, \n",
    "                                  Lasso, RandomizedLasso)\n",
    "from sklearn.linear_model import LogisticRegression\n",
    "from sklearn.feature_selection import RFE, f_classif\n",
    "from sklearn.preprocessing import MinMaxScaler\n",
    "from sklearn.ensemble import RandomForestRegressor\n",
    "\n",
    "from sklearn.model_selection import cross_val_score, ShuffleSplit\n",
    "import numpy as np\n",
    "import pandas as pd"
   ]
  },
  {
   "cell_type": "code",
   "execution_count": 14,
   "metadata": {
    "collapsed": true
   },
   "outputs": [],
   "source": [
    "dataset = pd.read_csv(r'C:\\Users\\thinkpad\\Documents\\GitHub\\PHBS_MLF_2018\\data\\5year.arff.csv')\n",
    "target='class'#二分类的名称\n",
    "x_columns = [x for x in dataset.columns if x not in [target]]\n",
    "X = dataset[x_columns]\n",
    "y = dataset['class']\n",
    "names = X.columns\n",
    "Xarray = X.values\n",
    "yarray = y.values\n",
    "ranks = {}"
   ]
  },
  {
   "cell_type": "markdown",
   "metadata": {},
   "source": [
    "#  Univariate feature selection"
   ]
  },
  {
   "cell_type": "markdown",
   "metadata": {},
   "source": [
    "### Pearson Correlation"
   ]
  },
  {
   "cell_type": "code",
   "execution_count": 15,
   "metadata": {
    "scrolled": true
   },
   "outputs": [
    {
     "name": "stdout",
     "output_type": "stream",
     "text": [
      "[53, 38, 62, 1, 37, 44, 39, 8, 42, 16, 52, 25, 17, 40, 19, 22, 9, 41, 34, 50, 11, 48, 33, 45, 30, 23, 27, 14, 64, 55, 29, 59, 26, 15, 54, 46, 24, 13, 61, 4, 12, 32, 57, 51, 6, 2, 10, 47, 35, 3, 63, 36, 20, 21, 43, 60, 56, 58, 28, 5, 31, 49, 18, 7]\n"
     ]
    }
   ],
   "source": [
    "f, pval  = f_classif(Xarray, yarray)\n",
    "ranks = sorted(zip(f,names), reverse=False)\n",
    "Ranks = pd.DataFrame(ranks)\n",
    "Ranks['namename'] = Ranks.iloc[:,1]\n",
    "Ranklist1=[]\n",
    "for name in names:\n",
    "    rank = Ranks[(Ranks.namename==name)].index.tolist()\n",
    "    Rank = rank[-1]+1\n",
    "    Ranklist1.append(Rank)\n",
    "print(Ranklist1)"
   ]
  },
  {
   "cell_type": "markdown",
   "metadata": {},
   "source": [
    "### Random Forest Regression Based Ranking"
   ]
  },
  {
   "cell_type": "markdown",
   "metadata": {},
   "source": [
    "# Logistic model and regularization"
   ]
  },
  {
   "cell_type": "markdown",
   "metadata": {},
   "source": [
    "### L1 regularization"
   ]
  },
  {
   "cell_type": "code",
   "execution_count": 16,
   "metadata": {},
   "outputs": [
    {
     "name": "stdout",
     "output_type": "stream",
     "text": [
      "[13, 22, 2, 49, 58, 24, 16, 44, 10, 34, 12, 40, 33, 28, 64, 32, 42, 21, 29, 47, 15, 7, 30, 23, 14, 39, 59, 56, 4, 31, 20, 62, 35, 50, 1, 25, 46, 11, 6, 41, 36, 18, 52, 45, 61, 43, 55, 3, 9, 51, 5, 19, 53, 48, 60, 8, 27, 17, 26, 63, 37, 57, 38, 54]\n"
     ]
    }
   ],
   "source": [
    "lr = LogisticRegression(C=1.0, penalty=\"l1\", random_state=0)\n",
    "lr.fit(Xarray,yarray)\n",
    "lrcoef = lr.coef_[-1]\n",
    "ranks = sorted(zip(np.abs(lrcoef),names), reverse=True)\n",
    "Ranks = pd.DataFrame(ranks)\n",
    "Ranks['namename'] = Ranks.iloc[:,1]\n",
    "Ranklist2 =[]\n",
    "for name in names:\n",
    "    rank = Ranks[(Ranks.namename==name)].index.tolist()\n",
    "    Rank = rank[-1]+1\n",
    "    Ranklist2.append(Rank)\n",
    "print(Ranklist2)"
   ]
  },
  {
   "cell_type": "markdown",
   "metadata": {},
   "source": [
    "### L2 regularization"
   ]
  },
  {
   "cell_type": "code",
   "execution_count": 17,
   "metadata": {},
   "outputs": [
    {
     "name": "stdout",
     "output_type": "stream",
     "text": [
      "[41, 45, 51, 18, 61, 37, 47, 16, 24, 39, 40, 26, 32, 46, 64, 27, 12, 43, 57, 3, 21, 44, 59, 34, 49, 30, 33, 15, 14, 63, 56, 13, 10, 17, 42, 25, 5, 36, 58, 29, 23, 60, 1, 4, 19, 22, 2, 48, 62, 20, 50, 52, 54, 35, 38, 55, 28, 31, 53, 7, 8, 6, 9, 11]\n"
     ]
    }
   ],
   "source": [
    "lr = LogisticRegression(C=1.0, penalty=\"l2\", random_state=0)\n",
    "lr.fit(Xarray,yarray)\n",
    "lrcoef = lr.coef_[-1]\n",
    "ranks = sorted(zip(np.abs(lrcoef),names), reverse=True)\n",
    "Ranks = pd.DataFrame(ranks)\n",
    "Ranks['namename'] = Ranks.iloc[:,1]\n",
    "Ranklist3=[]\n",
    "for name in names:\n",
    "    rank = Ranks[(Ranks.namename==name)].index.tolist()\n",
    "    Rank = rank[-1]+1\n",
    "    Ranklist3.append(Rank)\n",
    "print(Ranklist3)"
   ]
  },
  {
   "cell_type": "markdown",
   "metadata": {},
   "source": [
    "# Random Forest（multivariable）"
   ]
  },
  {
   "cell_type": "code",
   "execution_count": 18,
   "metadata": {},
   "outputs": [
    {
     "name": "stdout",
     "output_type": "stream",
     "text": [
      "[40, 62, 31, 46, 19, 25, 43, 41, 17, 49, 21, 36, 32, 57, 15, 37, 64, 55, 61, 56, 1, 6, 60, 7, 20, 53, 3, 38, 13, 23, 59, 47, 52, 2, 4, 26, 30, 63, 10, 12, 8, 5, 34, 28, 22, 9, 29, 35, 45, 51, 33, 48, 54, 44, 14, 11, 24, 16, 50, 42, 27, 39, 58, 18]\n"
     ]
    }
   ],
   "source": [
    "rf = RandomForestRegressor()\n",
    "rf.fit(Xarray,yarray)\n",
    "ranks = sorted(zip(rf.feature_importances_ , names), reverse=True)\n",
    "Ranks = pd.DataFrame(ranks)\n",
    "Ranks['namename'] = Ranks.iloc[:,1]\n",
    "Ranklist4=[]\n",
    "for name in names:\n",
    "    rank = Ranks[(Ranks.namename==name)].index.tolist()\n",
    "    Rank = rank[-1]+1\n",
    "    Ranklist4.append(Rank)\n",
    "print(Ranklist4)"
   ]
  },
  {
   "cell_type": "markdown",
   "metadata": {},
   "source": [
    "# Recursive Feature Elimination "
   ]
  },
  {
   "cell_type": "code",
   "execution_count": 19,
   "metadata": {},
   "outputs": [
    {
     "name": "stdout",
     "output_type": "stream",
     "text": [
      "[27, 2, 7, 20, 60, 33, 31, 23, 30, 1, 16, 21, 42, 17, 64, 37, 28, 25, 39, 49, 22, 26, 47, 32, 9, 18, 57, 40, 8, 63, 53, 58, 14, 55, 3, 24, 43, 4, 10, 12, 44, 61, 50, 48, 51, 13, 45, 5, 62, 19, 6, 36, 54, 41, 59, 11, 34, 29, 35, 52, 38, 56, 15, 46]\n"
     ]
    }
   ],
   "source": [
    "rfe = RFE(lr, n_features_to_select=5)\n",
    "rfe.fit(Xarray,yarray)\n",
    "ranks = sorted(zip(rfe.ranking_ , names), reverse=False)\n",
    "Ranks = pd.DataFrame(ranks)\n",
    "Ranks['namename'] = Ranks.iloc[:,1]\n",
    "Ranklist5=[]\n",
    "for name in names:\n",
    "    rank = Ranks[(Ranks.namename==name)].index.tolist()\n",
    "    Rank = rank[-1]+1\n",
    "    Ranklist5.append(Rank)\n",
    "print(Ranklist5)"
   ]
  },
  {
   "cell_type": "markdown",
   "metadata": {},
   "source": [
    "# Get the mean relative rank of each factor"
   ]
  },
  {
   "cell_type": "code",
   "execution_count": 20,
   "metadata": {},
   "outputs": [
    {
     "name": "stdout",
     "output_type": "stream",
     "text": [
      "       0       1\n",
      "0   14.0  Attr21\n",
      "1   17.8  Attr46\n",
      "2   19.6  Attr40\n",
      "3   20.6  Attr29\n",
      "4   20.8  Attr35\n",
      "5   24.4  Attr25\n",
      "6   24.6  Attr41\n",
      "7   24.6   Attr9\n",
      "8   25.4  Attr38\n",
      "9   26.2  Attr22\n",
      "10  26.4   Attr8\n",
      "11  26.8   Attr4\n",
      "12  27.2  Attr64\n",
      "13  27.4  Attr33\n",
      "14  27.6  Attr48\n",
      "15  27.6  Attr63\n",
      "16  27.8  Attr10\n",
      "17  27.8  Attr34\n",
      "18  28.2  Attr11\n",
      "19  28.2  Attr24\n",
      "20  28.2  Attr47\n",
      "21  28.2  Attr61\n",
      "22  28.8  Attr50\n",
      "23  29.0  Attr39\n",
      "24  29.0  Attr56\n",
      "25  29.2  Attr36\n",
      "26  29.6  Attr12\n",
      "27  29.6  Attr37\n",
      "28  30.2  Attr58\n",
      "29  30.6   Attr3\n",
      "..   ...     ...\n",
      "34  31.8  Attr45\n",
      "35  32.6  Attr26\n",
      "36  32.6  Attr28\n",
      "37  32.6   Attr6\n",
      "38  33.8   Attr2\n",
      "39  33.8  Attr57\n",
      "40  33.8  Attr60\n",
      "41  34.8   Attr1\n",
      "42  35.2  Attr42\n",
      "43  35.2  Attr44\n",
      "44  35.2   Attr7\n",
      "45  35.8  Attr27\n",
      "46  37.0  Attr18\n",
      "47  37.6  Attr14\n",
      "48  37.8  Attr54\n",
      "49  38.2  Attr52\n",
      "50  38.4  Attr59\n",
      "51  38.8  Attr43\n",
      "52  41.0  Attr20\n",
      "53  41.4  Attr62\n",
      "54  42.6  Attr49\n",
      "55  42.8  Attr55\n",
      "56  43.4  Attr31\n",
      "57  44.0  Attr19\n",
      "58  45.2  Attr15\n",
      "59  45.8  Attr23\n",
      "60  47.0  Attr30\n",
      "61  47.0   Attr5\n",
      "62  47.0  Attr53\n",
      "63  47.8  Attr32\n",
      "\n",
      "[64 rows x 2 columns]\n"
     ]
    }
   ],
   "source": [
    "Meanrank=[]\n",
    "for i in range(64):\n",
    "    meanrank = (Ranklist1[i]+Ranklist2[i]+Ranklist3[i]+Ranklist4[i]+Ranklist5[i])/5\n",
    "    Meanrank.append(meanrank)\n",
    "\n",
    "MeanRank=np.array(Meanrank)\n",
    "result = sorted(zip(MeanRank , names), reverse=False)\n",
    "Result = pd.DataFrame(result)\n",
    "print(Result)"
   ]
  },
  {
   "cell_type": "markdown",
   "metadata": {},
   "source": [
    "# Get the mean relative rank of each factor"
   ]
  },
  {
   "cell_type": "code",
   "execution_count": 21,
   "metadata": {},
   "outputs": [
    {
     "name": "stdout",
     "output_type": "stream",
     "text": [
      "           0       1\n",
      "0   0.912022  Attr29\n",
      "1   1.010493  Attr35\n",
      "2   1.085630  Attr39\n",
      "3   1.208312  Attr56\n",
      "4   1.231522  Attr46\n",
      "5   1.331745  Attr34\n",
      "6   1.346957  Attr60\n",
      "7   1.364583  Attr48\n",
      "8   1.386967   Attr3\n",
      "9   1.419040  Attr22\n",
      "10  1.425620  Attr51\n",
      "11  1.456696  Attr40\n",
      "12  1.471780  Attr47\n",
      "13  1.500624  Attr45\n",
      "14  1.505290  Attr64\n",
      "15  1.508498   Attr4\n",
      "16  1.516314  Attr50\n",
      "17  1.534408  Attr38\n",
      "18  1.641153   Attr2\n",
      "19  1.675786  Attr10\n",
      "20  1.683318  Attr17\n",
      "21  1.726324   Attr8\n",
      "22  1.726911  Attr27\n",
      "23  1.745352  Attr41\n",
      "24  1.745427  Attr25\n",
      "25  1.791206  Attr63\n",
      "26  1.808906  Attr33\n",
      "27  1.831984  Attr21\n",
      "28  1.840819  Attr42\n",
      "29  1.871413  Attr43\n",
      "..       ...     ...\n",
      "34  2.034907  Attr11\n",
      "35  2.035109  Attr28\n",
      "36  2.041671  Attr49\n",
      "37  2.060738  Attr20\n",
      "38  2.147502  Attr24\n",
      "39  2.265770  Attr62\n",
      "40  2.285350   Attr9\n",
      "41  2.371998  Attr57\n",
      "42  2.433976  Attr13\n",
      "43  2.478713  Attr32\n",
      "44  2.515576   Attr1\n",
      "45  2.594165  Attr61\n",
      "46  2.643314   Attr7\n",
      "47  2.661180  Attr14\n",
      "48  2.680388  Attr55\n",
      "49  2.787276  Attr31\n",
      "50  2.861079  Attr30\n",
      "51  3.012387  Attr52\n",
      "52  3.466379  Attr36\n",
      "53  3.504831  Attr53\n",
      "54  3.528199  Attr12\n",
      "55  3.541712  Attr23\n",
      "56  3.650406  Attr54\n",
      "57  3.668129  Attr26\n",
      "58  3.672705   Attr5\n",
      "59  3.729090  Attr18\n",
      "60  3.729559  Attr59\n",
      "61  3.912531  Attr19\n",
      "62  3.915270   Attr6\n",
      "63  5.465255  Attr16\n",
      "\n",
      "[64 rows x 2 columns]\n"
     ]
    }
   ],
   "source": [
    "for i in range(64):\n",
    "    meanrank = (Ranklist1[i]+Ranklist2[i]+Ranklist3[i]+Ranklist4[i]+Ranklist5[i])/5\n",
    "    std = np.std([Ranklist1[i],Ranklist2[i],Ranklist3[i],Ranklist4[i],Ranklist5[i]])\n",
    "    meanrank_std = meanrank*std\n",
    "    Meanrank_STD.append(meanrank_std)\n",
    "\n",
    "MeanRank_STD=np.array(Meanrank_STD)\n",
    "result = sorted(zip(MeanRank_STD , names), reverse=False)\n",
    "Result = pd.DataFrame(result)\n",
    "print(Result)"
   ]
  },
  {
   "cell_type": "code",
   "execution_count": null,
   "metadata": {
    "collapsed": true
   },
   "outputs": [],
   "source": []
  }
 ],
 "metadata": {
  "kernelspec": {
   "display_name": "Python 3",
   "language": "python",
   "name": "python3"
  },
  "language_info": {
   "codemirror_mode": {
    "name": "ipython",
    "version": 3
   },
   "file_extension": ".py",
   "mimetype": "text/x-python",
   "name": "python",
   "nbconvert_exporter": "python",
   "pygments_lexer": "ipython3",
   "version": "3.6.3"
  }
 },
 "nbformat": 4,
 "nbformat_minor": 2
}
