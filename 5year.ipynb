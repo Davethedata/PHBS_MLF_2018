{
 "cells": [
  {
   "cell_type": "code",
   "execution_count": 80,
   "metadata": {},
   "outputs": [],
   "source": [
    "from sklearn.datasets import load_boston\n",
    "from sklearn.linear_model import (LinearRegression, Ridge, \n",
    "                                  Lasso, RandomizedLasso)\n",
    "from sklearn.linear_model import LogisticRegression\n",
    "from sklearn.feature_selection import RFE, f_classif\n",
    "from sklearn.preprocessing import MinMaxScaler\n",
    "from sklearn.ensemble import RandomForestRegressor\n",
    "\n",
    "from sklearn.model_selection import cross_val_score, ShuffleSplit\n",
    "import numpy as np\n",
    "import pandas as pd"
   ]
  },
  {
   "cell_type": "code",
   "execution_count": 81,
   "metadata": {
    "collapsed": true
   },
   "outputs": [],
   "source": [
    "dataset = pd.read_csv(r'C:\\Users\\thinkpad\\Documents\\GitHub\\PHBS_MLF_2018\\data\\5year.arff.csv')\n",
    "target='class'#二分类的名称\n",
    "x_columns = [x for x in dataset.columns if x not in [target]]\n",
    "X = dataset[x_columns]\n",
    "y = dataset['class']\n",
    "names = X.columns\n",
    "Xarray = X.values\n",
    "yarray = y.values\n",
    "ranks = {}"
   ]
  },
  {
   "cell_type": "markdown",
   "metadata": {},
   "source": [
    "#  Univariate feature selection"
   ]
  },
  {
   "cell_type": "markdown",
   "metadata": {},
   "source": [
    "### Pearson Correlation"
   ]
  },
  {
   "cell_type": "code",
   "execution_count": 82,
   "metadata": {
    "scrolled": true
   },
   "outputs": [
    {
     "name": "stdout",
     "output_type": "stream",
     "text": [
      "            0       1\n",
      "0    0.000240  Attr60\n",
      "1    0.003201  Attr30\n",
      "2    0.009139  Attr40\n",
      "3    0.012636  Attr19\n",
      "4    0.012922  Attr31\n",
      "5    0.013476  Attr23\n",
      "6    0.013824  Attr36\n",
      "7    0.016130  Attr17\n",
      "8    0.016293   Attr8\n",
      "9    0.020892  Attr34\n",
      "10   0.023183   Attr9\n",
      "11   0.026314  Attr32\n",
      "12   0.026893  Attr61\n",
      "13   0.029714  Attr52\n",
      "14   0.035845  Attr13\n",
      "15   0.039708  Attr45\n",
      "16   0.042001  Attr47\n",
      "17   0.042305  Attr33\n",
      "18   0.051074  Attr59\n",
      "19   0.057061   Attr4\n",
      "20   0.058484  Attr50\n",
      "21   0.074983  Attr57\n",
      "22   0.075364  Attr63\n",
      "23   0.076873  Attr56\n",
      "24   0.095519  Attr37\n",
      "25   0.109355  Attr21\n",
      "26   0.115052  Attr46\n",
      "27   0.116955  Attr44\n",
      "28   0.129571  Attr39\n",
      "29   0.131145  Attr43\n",
      "..        ...     ...\n",
      "34   0.154845  Attr14\n",
      "35   0.157127  Attr20\n",
      "36   0.158320  Attr22\n",
      "37   0.163233  Attr12\n",
      "38   0.163914  Attr48\n",
      "39   0.169245  Attr18\n",
      "40   0.170397  Attr49\n",
      "41   0.272182  Attr26\n",
      "42   0.310165  Attr35\n",
      "43   0.313438  Attr27\n",
      "44   0.316875  Attr16\n",
      "45   0.386690  Attr28\n",
      "46   0.498105   Attr5\n",
      "47   0.725668  Attr62\n",
      "48   0.930379  Attr41\n",
      "49   1.056231   Attr1\n",
      "50   1.189951  Attr24\n",
      "51   1.248369  Attr15\n",
      "52   1.714024  Attr55\n",
      "53   2.257872  Attr29\n",
      "54   9.729780  Attr10\n",
      "55   9.984604  Attr38\n",
      "56  13.326896   Attr2\n",
      "57  13.378005  Attr51\n",
      "58  13.515940   Attr3\n",
      "59  13.693438  Attr25\n",
      "60  14.211025  Attr64\n",
      "61  15.360977   Attr6\n",
      "62  21.052222  Attr53\n",
      "63  21.291538  Attr54\n",
      "\n",
      "[64 rows x 2 columns]\n"
     ]
    }
   ],
   "source": [
    "f, pval  = f_classif(Xarray, yarray)\n",
    "ranks = sorted(zip(f,names), reverse=False)\n",
    "Ranks = pd.DataFrame(ranks)\n",
    "print(Ranks)\n",
    "#ranks[\"Corr.\"] = rank_to_dict(f, names)\n",
    "#print(ranks[\"Corr.\"])"
   ]
  },
  {
   "cell_type": "markdown",
   "metadata": {},
   "source": [
    "### Random Forest Regression Based Ranking"
   ]
  },
  {
   "cell_type": "markdown",
   "metadata": {},
   "source": [
    "# Logistic model and regularization"
   ]
  },
  {
   "cell_type": "markdown",
   "metadata": {},
   "source": [
    "### L1 regularization"
   ]
  },
  {
   "cell_type": "code",
   "execution_count": 72,
   "metadata": {},
   "outputs": [
    {
     "ename": "KeyboardInterrupt",
     "evalue": "",
     "output_type": "error",
     "traceback": [
      "\u001b[1;31m---------------------------------------------------------------------------\u001b[0m",
      "\u001b[1;31mKeyboardInterrupt\u001b[0m                         Traceback (most recent call last)",
      "\u001b[1;32m<ipython-input-72-82b80e7c7b71>\u001b[0m in \u001b[0;36m<module>\u001b[1;34m()\u001b[0m\n\u001b[0;32m      1\u001b[0m \u001b[0mlr\u001b[0m \u001b[1;33m=\u001b[0m \u001b[0mLogisticRegression\u001b[0m\u001b[1;33m(\u001b[0m\u001b[0mC\u001b[0m\u001b[1;33m=\u001b[0m\u001b[1;36m1.0\u001b[0m\u001b[1;33m,\u001b[0m \u001b[0mpenalty\u001b[0m\u001b[1;33m=\u001b[0m\u001b[1;34m\"l1\"\u001b[0m\u001b[1;33m,\u001b[0m \u001b[0mrandom_state\u001b[0m\u001b[1;33m=\u001b[0m\u001b[1;36m0\u001b[0m\u001b[1;33m)\u001b[0m\u001b[1;33m\u001b[0m\u001b[0m\n\u001b[1;32m----> 2\u001b[1;33m \u001b[0mlr\u001b[0m\u001b[1;33m.\u001b[0m\u001b[0mfit\u001b[0m\u001b[1;33m(\u001b[0m\u001b[0mXarray\u001b[0m\u001b[1;33m,\u001b[0m\u001b[0myarray\u001b[0m\u001b[1;33m)\u001b[0m\u001b[1;33m\u001b[0m\u001b[0m\n\u001b[0m\u001b[0;32m      3\u001b[0m \u001b[0mlrcoef\u001b[0m \u001b[1;33m=\u001b[0m \u001b[0mlr\u001b[0m\u001b[1;33m.\u001b[0m\u001b[0mcoef_\u001b[0m\u001b[1;33m[\u001b[0m\u001b[1;33m-\u001b[0m\u001b[1;36m1\u001b[0m\u001b[1;33m]\u001b[0m\u001b[1;33m\u001b[0m\u001b[0m\n\u001b[0;32m      4\u001b[0m \u001b[0mranks\u001b[0m \u001b[1;33m=\u001b[0m \u001b[0msorted\u001b[0m\u001b[1;33m(\u001b[0m\u001b[0mzip\u001b[0m\u001b[1;33m(\u001b[0m\u001b[0mnp\u001b[0m\u001b[1;33m.\u001b[0m\u001b[0mabs\u001b[0m\u001b[1;33m(\u001b[0m\u001b[0mlrcoef\u001b[0m\u001b[1;33m)\u001b[0m\u001b[1;33m,\u001b[0m\u001b[0mnames\u001b[0m\u001b[1;33m)\u001b[0m\u001b[1;33m,\u001b[0m \u001b[0mreverse\u001b[0m\u001b[1;33m=\u001b[0m\u001b[1;32mTrue\u001b[0m\u001b[1;33m)\u001b[0m\u001b[1;33m\u001b[0m\u001b[0m\n\u001b[0;32m      5\u001b[0m \u001b[0mRanks\u001b[0m \u001b[1;33m=\u001b[0m \u001b[0mpd\u001b[0m\u001b[1;33m.\u001b[0m\u001b[0mDataFrame\u001b[0m\u001b[1;33m(\u001b[0m\u001b[0mranks\u001b[0m\u001b[1;33m)\u001b[0m\u001b[1;33m\u001b[0m\u001b[0m\n",
      "\u001b[1;32m~\\Anaconda3\\lib\\site-packages\\sklearn\\linear_model\\logistic.py\u001b[0m in \u001b[0;36mfit\u001b[1;34m(self, X, y, sample_weight)\u001b[0m\n\u001b[0;32m   1231\u001b[0m                 \u001b[0mself\u001b[0m\u001b[1;33m.\u001b[0m\u001b[0mclass_weight\u001b[0m\u001b[1;33m,\u001b[0m \u001b[0mself\u001b[0m\u001b[1;33m.\u001b[0m\u001b[0mpenalty\u001b[0m\u001b[1;33m,\u001b[0m \u001b[0mself\u001b[0m\u001b[1;33m.\u001b[0m\u001b[0mdual\u001b[0m\u001b[1;33m,\u001b[0m \u001b[0mself\u001b[0m\u001b[1;33m.\u001b[0m\u001b[0mverbose\u001b[0m\u001b[1;33m,\u001b[0m\u001b[1;33m\u001b[0m\u001b[0m\n\u001b[0;32m   1232\u001b[0m                 \u001b[0mself\u001b[0m\u001b[1;33m.\u001b[0m\u001b[0mmax_iter\u001b[0m\u001b[1;33m,\u001b[0m \u001b[0mself\u001b[0m\u001b[1;33m.\u001b[0m\u001b[0mtol\u001b[0m\u001b[1;33m,\u001b[0m \u001b[0mself\u001b[0m\u001b[1;33m.\u001b[0m\u001b[0mrandom_state\u001b[0m\u001b[1;33m,\u001b[0m\u001b[1;33m\u001b[0m\u001b[0m\n\u001b[1;32m-> 1233\u001b[1;33m                 sample_weight=sample_weight)\n\u001b[0m\u001b[0;32m   1234\u001b[0m             \u001b[0mself\u001b[0m\u001b[1;33m.\u001b[0m\u001b[0mn_iter_\u001b[0m \u001b[1;33m=\u001b[0m \u001b[0mnp\u001b[0m\u001b[1;33m.\u001b[0m\u001b[0marray\u001b[0m\u001b[1;33m(\u001b[0m\u001b[1;33m[\u001b[0m\u001b[0mn_iter_\u001b[0m\u001b[1;33m]\u001b[0m\u001b[1;33m)\u001b[0m\u001b[1;33m\u001b[0m\u001b[0m\n\u001b[0;32m   1235\u001b[0m             \u001b[1;32mreturn\u001b[0m \u001b[0mself\u001b[0m\u001b[1;33m\u001b[0m\u001b[0m\n",
      "\u001b[1;32m~\\Anaconda3\\lib\\site-packages\\sklearn\\svm\\base.py\u001b[0m in \u001b[0;36m_fit_liblinear\u001b[1;34m(X, y, C, fit_intercept, intercept_scaling, class_weight, penalty, dual, verbose, max_iter, tol, random_state, multi_class, loss, epsilon, sample_weight)\u001b[0m\n\u001b[0;32m    888\u001b[0m         \u001b[0mX\u001b[0m\u001b[1;33m,\u001b[0m \u001b[0my_ind\u001b[0m\u001b[1;33m,\u001b[0m \u001b[0msp\u001b[0m\u001b[1;33m.\u001b[0m\u001b[0misspmatrix\u001b[0m\u001b[1;33m(\u001b[0m\u001b[0mX\u001b[0m\u001b[1;33m)\u001b[0m\u001b[1;33m,\u001b[0m \u001b[0msolver_type\u001b[0m\u001b[1;33m,\u001b[0m \u001b[0mtol\u001b[0m\u001b[1;33m,\u001b[0m \u001b[0mbias\u001b[0m\u001b[1;33m,\u001b[0m \u001b[0mC\u001b[0m\u001b[1;33m,\u001b[0m\u001b[1;33m\u001b[0m\u001b[0m\n\u001b[0;32m    889\u001b[0m         \u001b[0mclass_weight_\u001b[0m\u001b[1;33m,\u001b[0m \u001b[0mmax_iter\u001b[0m\u001b[1;33m,\u001b[0m \u001b[0mrnd\u001b[0m\u001b[1;33m.\u001b[0m\u001b[0mrandint\u001b[0m\u001b[1;33m(\u001b[0m\u001b[0mnp\u001b[0m\u001b[1;33m.\u001b[0m\u001b[0miinfo\u001b[0m\u001b[1;33m(\u001b[0m\u001b[1;34m'i'\u001b[0m\u001b[1;33m)\u001b[0m\u001b[1;33m.\u001b[0m\u001b[0mmax\u001b[0m\u001b[1;33m)\u001b[0m\u001b[1;33m,\u001b[0m\u001b[1;33m\u001b[0m\u001b[0m\n\u001b[1;32m--> 890\u001b[1;33m         epsilon, sample_weight)\n\u001b[0m\u001b[0;32m    891\u001b[0m     \u001b[1;31m# Regarding rnd.randint(..) in the above signature:\u001b[0m\u001b[1;33m\u001b[0m\u001b[1;33m\u001b[0m\u001b[0m\n\u001b[0;32m    892\u001b[0m     \u001b[1;31m# seed for srand in range [0..INT_MAX); due to limitations in Numpy\u001b[0m\u001b[1;33m\u001b[0m\u001b[1;33m\u001b[0m\u001b[0m\n",
      "\u001b[1;31mKeyboardInterrupt\u001b[0m: "
     ]
    }
   ],
   "source": [
    "lr = LogisticRegression(C=1.0, penalty=\"l1\", random_state=0)\n",
    "lr.fit(Xarray,yarray)\n",
    "lrcoef = lr.coef_[-1]\n",
    "ranks = sorted(zip(np.abs(lrcoef),names), reverse=True)\n",
    "Ranks = pd.DataFrame(ranks)\n",
    "print(Ranks)"
   ]
  },
  {
   "cell_type": "markdown",
   "metadata": {},
   "source": [
    "### L2 regularization"
   ]
  },
  {
   "cell_type": "code",
   "execution_count": 73,
   "metadata": {},
   "outputs": [
    {
     "name": "stdout",
     "output_type": "stream",
     "text": [
      "               0       1\n",
      "0   4.730422e-03  Attr43\n",
      "1   2.725520e-03  Attr44\n",
      "2   2.517781e-03  Attr47\n",
      "3   2.019976e-03  Attr62\n",
      "4   2.004903e-03  Attr20\n",
      "5   1.282586e-03  Attr60\n",
      "6   9.715565e-04  Attr64\n",
      "7   7.260473e-04  Attr37\n",
      "8   7.236187e-04  Attr32\n",
      "9   6.301370e-04  Attr61\n",
      "10  4.118972e-04  Attr63\n",
      "11  3.614573e-04  Attr33\n",
      "12  2.549255e-04  Attr21\n",
      "13  2.098171e-04  Attr29\n",
      "14  1.933213e-04  Attr27\n",
      "15  1.905867e-04  Attr54\n",
      "16  1.815441e-04  Attr34\n",
      "17  1.775225e-04  Attr53\n",
      "18  1.762991e-04  Attr17\n",
      "19  1.211366e-04   Attr8\n",
      "20  1.196958e-04  Attr36\n",
      "21  1.088147e-04   Attr4\n",
      "22  1.062218e-04  Attr28\n",
      "23  1.001697e-04   Attr9\n",
      "24  8.837912e-05  Attr50\n",
      "25  7.516105e-05  Attr46\n",
      "26  7.028807e-05  Attr45\n",
      "27  4.501297e-05  Attr58\n",
      "28  4.374148e-05  Attr16\n",
      "29  4.221692e-05  Attr26\n",
      "..           ...     ...\n",
      "34  2.930446e-05  Attr25\n",
      "35  2.558839e-05  Attr40\n",
      "36  1.814923e-05  Attr57\n",
      "37  1.777898e-05   Attr2\n",
      "38  1.645405e-05   Attr3\n",
      "39  1.529624e-05  Attr55\n",
      "40  1.486818e-05  Attr59\n",
      "41  1.263585e-05  Attr24\n",
      "42  1.252722e-05  Attr51\n",
      "43  1.033126e-05   Attr6\n",
      "44  7.889658e-06   Attr7\n",
      "45  7.889658e-06  Attr18\n",
      "46  7.889658e-06  Attr14\n",
      "47  7.476093e-06  Attr52\n",
      "48  7.419192e-06  Attr11\n",
      "49  7.066127e-06  Attr30\n",
      "50  6.914322e-06  Attr13\n",
      "51  6.794143e-06  Attr35\n",
      "52  6.630506e-06   Attr1\n",
      "53  6.553923e-06  Attr22\n",
      "54  5.410299e-06  Attr31\n",
      "55  5.141268e-06  Attr56\n",
      "56  4.930043e-06  Attr19\n",
      "57  4.369446e-06  Attr23\n",
      "58  3.405231e-06  Attr39\n",
      "59  3.390604e-06  Attr42\n",
      "60  2.856973e-06  Attr48\n",
      "61  1.715305e-06   Attr5\n",
      "62  1.401240e-06  Attr49\n",
      "63  4.172048e-07  Attr15\n",
      "\n",
      "[64 rows x 2 columns]\n"
     ]
    }
   ],
   "source": [
    "lr = LogisticRegression(C=1.0, penalty=\"l2\", random_state=0)\n",
    "lr.fit(Xarray,yarray)\n",
    "lrcoef = lr.coef_[-1]\n",
    "ranks = sorted(zip(np.abs(lrcoef),names), reverse=True)\n",
    "Ranks = pd.DataFrame(ranks)\n",
    "print(Ranks)"
   ]
  },
  {
   "cell_type": "markdown",
   "metadata": {},
   "source": [
    "# Random Forest（multivariable）"
   ]
  },
  {
   "cell_type": "code",
   "execution_count": null,
   "metadata": {
    "collapsed": true
   },
   "outputs": [],
   "source": [
    "rf = RandomForestRegressor()\n",
    "rf.fit(Xarray,yarray)\n",
    "ranks = sorted(zip((rf.feature_importances_ , names), reverse=True)\n",
    "Ranks = pd.DataFrame(ranks)\n",
    "print(Ranks)"
   ]
  },
  {
   "cell_type": "markdown",
   "metadata": {},
   "source": [
    "# Recursive Feature Elimination "
   ]
  },
  {
   "cell_type": "code",
   "execution_count": null,
   "metadata": {
    "collapsed": true
   },
   "outputs": [],
   "source": [
    "rfe = RFE(lr, n_features_to_select=5)\n",
    "rfe.fit(Xarray,yarray)\n",
    "ranks = sorted(zip((rfe.ranking_ , names), reverse=False)\n",
    "Ranks = pd.DataFrame(ranks)\n",
    "print(Ranks)"
   ]
  },
  {
   "cell_type": "code",
   "execution_count": null,
   "metadata": {
    "collapsed": true
   },
   "outputs": [],
   "source": []
  }
 ],
 "metadata": {
  "kernelspec": {
   "display_name": "Python 3",
   "language": "python",
   "name": "python3"
  },
  "language_info": {
   "codemirror_mode": {
    "name": "ipython",
    "version": 3
   },
   "file_extension": ".py",
   "mimetype": "text/x-python",
   "name": "python",
   "nbconvert_exporter": "python",
   "pygments_lexer": "ipython3",
   "version": "3.6.3"
  }
 },
 "nbformat": 4,
 "nbformat_minor": 2
}
