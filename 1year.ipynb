{
 "cells": [
  {
   "cell_type": "code",
   "execution_count": 9,
   "metadata": {
    "collapsed": true
   },
   "outputs": [],
   "source": [
    "from sklearn.datasets import load_boston\n",
    "from sklearn.linear_model import (LinearRegression, Ridge, \n",
    "                                  Lasso, RandomizedLasso)\n",
    "from sklearn.linear_model import LogisticRegression\n",
    "from sklearn.feature_selection import RFE, f_classif\n",
    "from sklearn.preprocessing import MinMaxScaler\n",
    "from sklearn.ensemble import RandomForestRegressor\n",
    "\n",
    "from sklearn.model_selection import cross_val_score, ShuffleSplit\n",
    "import numpy as np\n",
    "import pandas as pd"
   ]
  },
  {
   "cell_type": "code",
   "execution_count": 10,
   "metadata": {
    "collapsed": true
   },
   "outputs": [],
   "source": [
    "dataset = pd.read_csv(r'C:\\Users\\thinkpad\\Documents\\GitHub\\PHBS_MLF_2018\\data\\1year.arff.csv')\n",
    "target='class'#二分类的名称\n",
    "x_columns = [x for x in dataset.columns if x not in [target]]\n",
    "X = dataset[x_columns]\n",
    "y = dataset['class']\n",
    "names = X.columns\n",
    "Xarray = X.values\n",
    "yarray = y.values\n",
    "ranks = {}"
   ]
  },
  {
   "cell_type": "markdown",
   "metadata": {},
   "source": [
    "#  Univariate feature selection"
   ]
  },
  {
   "cell_type": "markdown",
   "metadata": {},
   "source": [
    "### Pearson Correlation"
   ]
  },
  {
   "cell_type": "code",
   "execution_count": 11,
   "metadata": {
    "scrolled": true
   },
   "outputs": [
    {
     "name": "stdout",
     "output_type": "stream",
     "text": [
      "[23, 1, 2, 27, 60, 5, 19, 63, 29, 13, 32, 15, 47, 21, 26, 18, 64, 20, 41, 55, 44, 39, 43, 22, 12, 24, 36, 17, 7, 56, 42, 6, 16, 9, 35, 33, 46, 14, 61, 25, 37, 62, 54, 53, 48, 38, 34, 45, 51, 10, 3, 8, 30, 31, 11, 57, 4, 58, 59, 50, 52, 49, 40, 28]\n"
     ]
    }
   ],
   "source": [
    "f, pval  = f_classif(Xarray, yarray)\n",
    "ranks = sorted(zip(f,names),reverse=True)\n",
    "Ranks = pd.DataFrame(ranks)\n",
    "Ranks['namename'] = Ranks.iloc[:,1]\n",
    "Ranklist1=[]\n",
    "for name in names:\n",
    "    rank = Ranks[(Ranks.namename==name)].index.tolist()\n",
    "    Rank = rank[-1]+1\n",
    "    Ranklist1.append(Rank)\n",
    "print(Ranklist1)"
   ]
  },
  {
   "cell_type": "markdown",
   "metadata": {},
   "source": [
    "### Random Forest Regression Based Ranking"
   ]
  },
  {
   "cell_type": "markdown",
   "metadata": {},
   "source": [
    "# Logistic model and regularization"
   ]
  },
  {
   "cell_type": "markdown",
   "metadata": {},
   "source": [
    "### L1 regularization"
   ]
  },
  {
   "cell_type": "code",
   "execution_count": 12,
   "metadata": {
    "scrolled": true
   },
   "outputs": [
    {
     "name": "stdout",
     "output_type": "stream",
     "text": [
      "[5, 35, 6, 32, 63, 14, 8, 18, 22, 62, 4, 20, 23, 11, 61, 15, 29, 9, 19, 54, 49, 38, 27, 12, 41, 31, 60, 40, 13, 43, 34, 45, 33, 30, 2, 25, 59, 10, 46, 17, 36, 16, 58, 57, 48, 28, 53, 1, 24, 21, 7, 3, 42, 39, 64, 50, 37, 47, 44, 55, 51, 56, 26, 52]\n"
     ]
    }
   ],
   "source": [
    "lr = LogisticRegression(C=1.0, penalty=\"l1\", random_state=0)\n",
    "lr.fit(Xarray,yarray)\n",
    "lrcoef = lr.coef_[-1]\n",
    "ranks = sorted(zip(np.abs(lrcoef),names), reverse=True)\n",
    "Ranks = pd.DataFrame(ranks)\n",
    "Ranks['namename'] = Ranks.iloc[:,1]\n",
    "Ranklist2 =[]\n",
    "for name in names:\n",
    "    rank = Ranks[(Ranks.namename==name)].index.tolist()\n",
    "    Rank = rank[-1]+1\n",
    "    Ranklist2.append(Rank)\n",
    "print(Ranklist2)"
   ]
  },
  {
   "cell_type": "markdown",
   "metadata": {},
   "source": [
    "### L2 regularization"
   ]
  },
  {
   "cell_type": "code",
   "execution_count": 13,
   "metadata": {
    "scrolled": true
   },
   "outputs": [
    {
     "name": "stdout",
     "output_type": "stream",
     "text": [
      "[53, 38, 39, 22, 62, 44, 45, 20, 24, 33, 49, 31, 51, 47, 64, 29, 19, 46, 57, 5, 13, 54, 58, 42, 35, 30, 15, 23, 14, 50, 55, 9, 12, 17, 52, 21, 8, 32, 59, 36, 34, 60, 1, 2, 27, 26, 3, 61, 63, 25, 43, 48, 18, 16, 40, 56, 37, 28, 41, 6, 10, 4, 11, 7]\n"
     ]
    }
   ],
   "source": [
    "lr = LogisticRegression(C=1.0, penalty=\"l2\", random_state=0)\n",
    "lr.fit(Xarray,yarray)\n",
    "lrcoef = lr.coef_[-1]\n",
    "ranks = sorted(zip(np.abs(lrcoef),names), reverse=True)\n",
    "Ranks = pd.DataFrame(ranks)\n",
    "Ranks['namename'] = Ranks.iloc[:,1]\n",
    "Ranklist3=[]\n",
    "for name in names:\n",
    "    rank = Ranks[(Ranks.namename==name)].index.tolist()\n",
    "    Rank = rank[-1]+1\n",
    "    Ranklist3.append(Rank)\n",
    "print(Ranklist3)"
   ]
  },
  {
   "cell_type": "markdown",
   "metadata": {},
   "source": [
    "# Random Forest（multivariable）"
   ]
  },
  {
   "cell_type": "code",
   "execution_count": 14,
   "metadata": {
    "scrolled": true
   },
   "outputs": [
    {
     "name": "stdout",
     "output_type": "stream",
     "text": [
      "[49, 59, 58, 57, 36, 19, 16, 64, 5, 48, 4, 24, 25, 9, 35, 47, 50, 15, 43, 38, 33, 6, 53, 21, 11, 34, 3, 42, 8, 46, 18, 63, 56, 1, 27, 45, 17, 14, 31, 32, 28, 2, 39, 10, 30, 7, 23, 44, 41, 40, 51, 62, 52, 55, 37, 20, 29, 22, 26, 12, 13, 61, 54, 60]\n"
     ]
    }
   ],
   "source": [
    "rf = RandomForestRegressor()\n",
    "rf.fit(Xarray,yarray)\n",
    "ranks = sorted(zip(rf.feature_importances_ , names), reverse=True)\n",
    "Ranks = pd.DataFrame(ranks)\n",
    "Ranks['namename'] = Ranks.iloc[:,1]\n",
    "Ranklist4=[]\n",
    "for name in names:\n",
    "    rank = Ranks[(Ranks.namename==name)].index.tolist()\n",
    "    Rank = rank[-1]+1\n",
    "    Ranklist4.append(Rank)\n",
    "print(Ranklist4)"
   ]
  },
  {
   "cell_type": "markdown",
   "metadata": {},
   "source": [
    "# Recursive Feature Elimination "
   ]
  },
  {
   "cell_type": "code",
   "execution_count": 15,
   "metadata": {},
   "outputs": [
    {
     "name": "stdout",
     "output_type": "stream",
     "text": [
      "[1, 33, 15, 31, 61, 34, 7, 19, 23, 32, 16, 26, 8, 6, 64, 13, 21, 2, 20, 42, 43, 3, 51, 24, 27, 14, 55, 39, 17, 57, 9, 49, 11, 25, 30, 22, 52, 4, 62, 28, 35, 59, 45, 44, 48, 29, 41, 60, 63, 18, 5, 54, 37, 38, 58, 53, 36, 10, 40, 50, 47, 56, 12, 46]\n"
     ]
    }
   ],
   "source": [
    "rfe = RFE(lr, n_features_to_select=5)\n",
    "rfe.fit(Xarray,yarray)\n",
    "ranks = sorted(zip(rfe.ranking_ , names), reverse=False)\n",
    "Ranks = pd.DataFrame(ranks)\n",
    "Ranks['namename'] = Ranks.iloc[:,1]\n",
    "Ranklist5=[]\n",
    "for name in names:\n",
    "    rank = Ranks[(Ranks.namename==name)].index.tolist()\n",
    "    Rank = rank[-1]+1\n",
    "    Ranklist5.append(Rank)\n",
    "print(Ranklist5)"
   ]
  },
  {
   "cell_type": "markdown",
   "metadata": {},
   "source": [
    "# Get the mean absolute rank of each factor"
   ]
  },
  {
   "cell_type": "code",
   "execution_count": 17,
   "metadata": {},
   "outputs": [
    {
     "name": "stdout",
     "output_type": "stream",
     "text": [
      "       0       1\n",
      "0   11.8  Attr29\n",
      "1   14.8  Attr38\n",
      "2   16.4  Attr34\n",
      "3   18.4  Attr18\n",
      "4   18.8  Attr14\n",
      "5   19.0   Attr7\n",
      "6   20.6   Attr9\n",
      "7   21.0  Attr11\n",
      "8   21.8  Attr51\n",
      "9   22.8  Attr50\n",
      "10  23.2  Attr12\n",
      "11  23.2   Attr6\n",
      "12  24.0   Attr3\n",
      "13  24.2  Attr24\n",
      "14  24.4  Attr16\n",
      "15  25.2  Attr25\n",
      "16  25.6  Attr33\n",
      "17  25.6  Attr46\n",
      "18  26.2   Attr1\n",
      "19  26.6  Attr26\n",
      "20  27.6  Attr40\n",
      "21  28.0  Attr22\n",
      "22  28.6  Attr57\n",
      "23  28.6  Attr63\n",
      "24  29.2  Attr35\n",
      "25  29.2  Attr36\n",
      "26  30.8  Attr13\n",
      "27  30.8  Attr47\n",
      "28  31.6  Attr31\n",
      "29  32.2  Attr28\n",
      "..   ...     ...\n",
      "34  33.8   Attr4\n",
      "35  34.0  Attr41\n",
      "36  34.4  Attr32\n",
      "37  34.6  Attr60\n",
      "38  34.6  Attr61\n",
      "39  35.0  Attr52\n",
      "40  35.8  Attr53\n",
      "41  35.8  Attr54\n",
      "42  36.0  Attr19\n",
      "43  36.4  Attr21\n",
      "44  36.4  Attr37\n",
      "45  36.6  Attr17\n",
      "46  36.8   Attr8\n",
      "47  37.6  Attr10\n",
      "48  38.6  Attr64\n",
      "49  38.8  Attr20\n",
      "50  39.4  Attr43\n",
      "51  39.8  Attr42\n",
      "52  40.2  Attr45\n",
      "53  42.0  Attr55\n",
      "54  42.0  Attr59\n",
      "55  42.2  Attr48\n",
      "56  45.2  Attr62\n",
      "57  46.4  Attr23\n",
      "58  47.2  Attr56\n",
      "59  48.4  Attr49\n",
      "60  50.0  Attr15\n",
      "61  50.4  Attr30\n",
      "62  51.8  Attr39\n",
      "63  56.4   Attr5\n",
      "\n",
      "[64 rows x 2 columns]\n"
     ]
    }
   ],
   "source": [
    "Meanrank=[]\n",
    "for i in range(64):\n",
    "    meanrank = (Ranklist1[i]+Ranklist2[i]+Ranklist3[i]+Ranklist4[i]+Ranklist5[i])/5\n",
    "    Meanrank.append(meanrank)\n",
    "\n",
    "MeanRank=np.array(Meanrank)\n",
    "result = sorted(zip(MeanRank , names), reverse=False)\n",
    "Result = pd.DataFrame(result)\n",
    "print(Result)"
   ]
  },
  {
   "cell_type": "markdown",
   "metadata": {},
   "source": [
    "# Get the mean relative rank of each factor"
   ]
  },
  {
   "cell_type": "code",
   "execution_count": 18,
   "metadata": {
    "scrolled": true
   },
   "outputs": [
    {
     "name": "stdout",
     "output_type": "stream",
     "text": [
      "              0       1\n",
      "0     44.403135  Attr29\n",
      "1    107.517440  Attr41\n",
      "2    125.708895  Attr12\n",
      "3    138.330526  Attr38\n",
      "4    168.164653   Attr9\n",
      "5    172.192190  Attr34\n",
      "6    178.527416  Attr40\n",
      "7    188.541280  Attr26\n",
      "8    225.892661  Attr50\n",
      "9    237.308117  Attr24\n",
      "10   260.365970  Attr46\n",
      "11   261.433782  Attr36\n",
      "12   261.896926   Attr7\n",
      "13   275.315046  Attr30\n",
      "14   277.004040  Attr18\n",
      "15   281.473108  Attr14\n",
      "16   303.406326  Attr25\n",
      "17   306.936095  Attr16\n",
      "18   325.263669   Attr6\n",
      "19   327.997741  Attr28\n",
      "20   362.035786  Attr57\n",
      "21   364.699328  Attr11\n",
      "22   385.920000  Attr45\n",
      "23   409.061020  Attr53\n",
      "24   409.747462   Attr4\n",
      "25   438.829104  Attr33\n",
      "26   442.098632  Attr59\n",
      "27   452.498405  Attr54\n",
      "28   452.768734  Attr51\n",
      "29   465.920000  Attr21\n",
      "..          ...     ...\n",
      "34   511.374618   Attr3\n",
      "35   520.623786  Attr31\n",
      "36   522.838505  Attr47\n",
      "37   524.167912  Attr19\n",
      "38   560.839371  Attr22\n",
      "39   565.920000   Attr1\n",
      "40   570.814155  Attr58\n",
      "41   578.038094   Attr5\n",
      "42   615.875642  Attr39\n",
      "43   617.341480   Attr2\n",
      "44   620.388606  Attr10\n",
      "45   642.577602  Attr17\n",
      "46   652.248669  Attr56\n",
      "47   655.978041  Attr61\n",
      "48   704.153192  Attr20\n",
      "49   712.384867  Attr49\n",
      "50   728.935864  Attr60\n",
      "51   733.034225  Attr64\n",
      "52   733.295143  Attr37\n",
      "53   747.094697  Attr27\n",
      "54   755.152227  Attr44\n",
      "55   781.245160  Attr55\n",
      "56   783.716259  Attr32\n",
      "57   800.741390  Attr43\n",
      "58   802.678779   Attr8\n",
      "59   810.555365  Attr15\n",
      "60   859.034342  Attr52\n",
      "61   920.463165  Attr48\n",
      "62   947.002027  Attr62\n",
      "63  1017.012664  Attr42\n",
      "\n",
      "[64 rows x 2 columns]\n"
     ]
    }
   ],
   "source": [
    "Meanrank_STD=[]\n",
    "\n",
    "for i in range(64):\n",
    "    meanrank = (Ranklist1[i]+Ranklist2[i]+Ranklist3[i]+Ranklist4[i]+Ranklist5[i])/5\n",
    "    std = np.std([Ranklist1[i],Ranklist2[i],Ranklist3[i],Ranklist4[i],Ranklist5[i]])\n",
    "    meanrank_std = meanrank*std\n",
    "    Meanrank_STD.append(meanrank_std)\n",
    "\n",
    "MeanRank_STD=np.array(Meanrank_STD)\n",
    "result = sorted(zip(MeanRank_STD , names), reverse=False)\n",
    "Result = pd.DataFrame(result)\n",
    "print(Result)"
   ]
  },
  {
   "cell_type": "code",
   "execution_count": null,
   "metadata": {
    "collapsed": true
   },
   "outputs": [],
   "source": []
  },
  {
   "cell_type": "code",
   "execution_count": null,
   "metadata": {
    "collapsed": true
   },
   "outputs": [],
   "source": []
  }
 ],
 "metadata": {
  "kernelspec": {
   "display_name": "Python 3",
   "language": "python",
   "name": "python3"
  }
 },
 "nbformat": 4,
 "nbformat_minor": 2
}
